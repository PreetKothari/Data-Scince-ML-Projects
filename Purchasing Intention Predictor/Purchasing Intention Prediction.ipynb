{
  "nbformat": 4,
  "nbformat_minor": 0,
  "metadata": {
    "colab": {
      "name": "Untitled0.ipynb",
      "provenance": [],
      "collapsed_sections": []
    },
    "kernelspec": {
      "name": "python3",
      "display_name": "Python 3"
    },
    "language_info": {
      "name": "python"
    }
  },
  "cells": [
    {
      "cell_type": "markdown",
      "metadata": {
        "id": "zSFhHxjDGoVm"
      },
      "source": [
        "# **Purchasing Intention Prediction**"
      ]
    },
    {
      "cell_type": "markdown",
      "metadata": {
        "id": "kuFYt_x6GsjW"
      },
      "source": [
        "In this project, I'll explore the Online Shoppers Purchasing Intention Dataset available [here](https://archive.ics.uci.edu/ml/datasets/Online+Shoppers+Purchasing+Intention+Dataset#). The aim of this project is to understand the data and predict whether a visitor will make a purchase or not."
      ]
    },
    {
      "cell_type": "markdown",
      "metadata": {
        "id": "PIWmEdYfGwpK"
      },
      "source": [
        "# **Import libraries**"
      ]
    },
    {
      "cell_type": "markdown",
      "metadata": {
        "id": "_Snid_x9G_Aw"
      },
      "source": [
        "The first step is to import the necessary libraries I'll use in this project. For working with the Artificial Neural Network, I'll use Keras with Tensorflow backend."
      ]
    },
    {
      "cell_type": "code",
      "metadata": {
        "id": "_qKH2CQjiEro"
      },
      "source": [
        "import numpy as np\n",
        "import pandas as pd\n",
        "import seaborn as sns\n",
        "import matplotlib.pyplot as plt\n",
        "%matplotlib inline\n",
        "\n",
        "import os\n",
        "import tensorflow \n",
        "os.environ['KERAS_BACKEND'] = 'tensorflow'\n",
        "import keras\n",
        "from keras.models import Sequential\n",
        "from keras.layers import Dense, Dropout\n",
        "from keras import metrics\n",
        "\n",
        "from sklearn.model_selection import train_test_split\n",
        "from sklearn.preprocessing import LabelEncoder, OneHotEncoder\n",
        "from sklearn.preprocessing import StandardScaler\n",
        "from sklearn.metrics import confusion_matrix, accuracy_score"
      ],
      "execution_count": 1,
      "outputs": []
    },
    {
      "cell_type": "markdown",
      "metadata": {
        "id": "5DiNHMHmHEqZ"
      },
      "source": [
        "# **Import dataset**"
      ]
    },
    {
      "cell_type": "markdown",
      "metadata": {
        "id": "_qDDFsqdHH4z"
      },
      "source": [
        "Next step is to import the dataset and get basic information from it."
      ]
    },
    {
      "cell_type": "code",
      "metadata": {
        "id": "3CEXJHLLiOT3"
      },
      "source": [
        "dataset = pd.read_csv('dataset.csv')"
      ],
      "execution_count": 2,
      "outputs": []
    },
    {
      "cell_type": "code",
      "metadata": {
        "id": "RXpslsJsiTYg",
        "colab": {
          "base_uri": "https://localhost:8080/",
          "height": 215
        },
        "outputId": "43e0a1b4-261a-4cc1-c7b8-5d6616bfb2df"
      },
      "source": [
        "dataset.sample(5)"
      ],
      "execution_count": 3,
      "outputs": [
        {
          "output_type": "execute_result",
          "data": {
            "text/html": [
              "<div>\n",
              "<style scoped>\n",
              "    .dataframe tbody tr th:only-of-type {\n",
              "        vertical-align: middle;\n",
              "    }\n",
              "\n",
              "    .dataframe tbody tr th {\n",
              "        vertical-align: top;\n",
              "    }\n",
              "\n",
              "    .dataframe thead th {\n",
              "        text-align: right;\n",
              "    }\n",
              "</style>\n",
              "<table border=\"1\" class=\"dataframe\">\n",
              "  <thead>\n",
              "    <tr style=\"text-align: right;\">\n",
              "      <th></th>\n",
              "      <th>Administrative</th>\n",
              "      <th>Administrative_Duration</th>\n",
              "      <th>Informational</th>\n",
              "      <th>Informational_Duration</th>\n",
              "      <th>ProductRelated</th>\n",
              "      <th>ProductRelated_Duration</th>\n",
              "      <th>BounceRates</th>\n",
              "      <th>ExitRates</th>\n",
              "      <th>PageValues</th>\n",
              "      <th>SpecialDay</th>\n",
              "      <th>Month</th>\n",
              "      <th>OperatingSystems</th>\n",
              "      <th>Browser</th>\n",
              "      <th>Region</th>\n",
              "      <th>TrafficType</th>\n",
              "      <th>VisitorType</th>\n",
              "      <th>Weekend</th>\n",
              "      <th>Revenue</th>\n",
              "    </tr>\n",
              "  </thead>\n",
              "  <tbody>\n",
              "    <tr>\n",
              "      <th>4143</th>\n",
              "      <td>2</td>\n",
              "      <td>46.333333</td>\n",
              "      <td>0</td>\n",
              "      <td>0.0</td>\n",
              "      <td>11</td>\n",
              "      <td>177.404762</td>\n",
              "      <td>0.016667</td>\n",
              "      <td>0.038194</td>\n",
              "      <td>0.0</td>\n",
              "      <td>0.0</td>\n",
              "      <td>May</td>\n",
              "      <td>3</td>\n",
              "      <td>2</td>\n",
              "      <td>5</td>\n",
              "      <td>4</td>\n",
              "      <td>Returning_Visitor</td>\n",
              "      <td>False</td>\n",
              "      <td>False</td>\n",
              "    </tr>\n",
              "    <tr>\n",
              "      <th>3560</th>\n",
              "      <td>0</td>\n",
              "      <td>0.000000</td>\n",
              "      <td>0</td>\n",
              "      <td>0.0</td>\n",
              "      <td>13</td>\n",
              "      <td>252.000000</td>\n",
              "      <td>0.000000</td>\n",
              "      <td>0.061538</td>\n",
              "      <td>0.0</td>\n",
              "      <td>0.0</td>\n",
              "      <td>May</td>\n",
              "      <td>2</td>\n",
              "      <td>2</td>\n",
              "      <td>8</td>\n",
              "      <td>3</td>\n",
              "      <td>Returning_Visitor</td>\n",
              "      <td>False</td>\n",
              "      <td>False</td>\n",
              "    </tr>\n",
              "    <tr>\n",
              "      <th>8953</th>\n",
              "      <td>0</td>\n",
              "      <td>0.000000</td>\n",
              "      <td>0</td>\n",
              "      <td>0.0</td>\n",
              "      <td>58</td>\n",
              "      <td>3178.500000</td>\n",
              "      <td>0.000000</td>\n",
              "      <td>0.015789</td>\n",
              "      <td>0.0</td>\n",
              "      <td>0.0</td>\n",
              "      <td>Nov</td>\n",
              "      <td>2</td>\n",
              "      <td>2</td>\n",
              "      <td>9</td>\n",
              "      <td>2</td>\n",
              "      <td>Returning_Visitor</td>\n",
              "      <td>False</td>\n",
              "      <td>True</td>\n",
              "    </tr>\n",
              "    <tr>\n",
              "      <th>7319</th>\n",
              "      <td>11</td>\n",
              "      <td>604.730000</td>\n",
              "      <td>0</td>\n",
              "      <td>0.0</td>\n",
              "      <td>63</td>\n",
              "      <td>1276.843158</td>\n",
              "      <td>0.000000</td>\n",
              "      <td>0.006712</td>\n",
              "      <td>0.0</td>\n",
              "      <td>0.0</td>\n",
              "      <td>Jul</td>\n",
              "      <td>2</td>\n",
              "      <td>2</td>\n",
              "      <td>8</td>\n",
              "      <td>6</td>\n",
              "      <td>New_Visitor</td>\n",
              "      <td>False</td>\n",
              "      <td>True</td>\n",
              "    </tr>\n",
              "    <tr>\n",
              "      <th>11825</th>\n",
              "      <td>8</td>\n",
              "      <td>122.041667</td>\n",
              "      <td>0</td>\n",
              "      <td>0.0</td>\n",
              "      <td>14</td>\n",
              "      <td>338.791667</td>\n",
              "      <td>0.000000</td>\n",
              "      <td>0.025000</td>\n",
              "      <td>0.0</td>\n",
              "      <td>0.0</td>\n",
              "      <td>Dec</td>\n",
              "      <td>2</td>\n",
              "      <td>2</td>\n",
              "      <td>7</td>\n",
              "      <td>3</td>\n",
              "      <td>Returning_Visitor</td>\n",
              "      <td>False</td>\n",
              "      <td>False</td>\n",
              "    </tr>\n",
              "  </tbody>\n",
              "</table>\n",
              "</div>"
            ],
            "text/plain": [
              "       Administrative  Administrative_Duration  ...  Weekend  Revenue\n",
              "4143                2                46.333333  ...    False    False\n",
              "3560                0                 0.000000  ...    False    False\n",
              "8953                0                 0.000000  ...    False     True\n",
              "7319               11               604.730000  ...    False     True\n",
              "11825               8               122.041667  ...    False    False\n",
              "\n",
              "[5 rows x 18 columns]"
            ]
          },
          "metadata": {
            "tags": []
          },
          "execution_count": 3
        }
      ]
    },
    {
      "cell_type": "markdown",
      "metadata": {
        "id": "fQtfSoRpHLZn"
      },
      "source": [
        "Let's see if there are any null values."
      ]
    },
    {
      "cell_type": "code",
      "metadata": {
        "colab": {
          "base_uri": "https://localhost:8080/",
          "height": 422
        },
        "id": "pAUoG2R9GXCH",
        "outputId": "1ed90307-27da-4938-d7d3-39324cc1fdc8"
      },
      "source": [
        "dataset.isnull()"
      ],
      "execution_count": 4,
      "outputs": [
        {
          "output_type": "execute_result",
          "data": {
            "text/html": [
              "<div>\n",
              "<style scoped>\n",
              "    .dataframe tbody tr th:only-of-type {\n",
              "        vertical-align: middle;\n",
              "    }\n",
              "\n",
              "    .dataframe tbody tr th {\n",
              "        vertical-align: top;\n",
              "    }\n",
              "\n",
              "    .dataframe thead th {\n",
              "        text-align: right;\n",
              "    }\n",
              "</style>\n",
              "<table border=\"1\" class=\"dataframe\">\n",
              "  <thead>\n",
              "    <tr style=\"text-align: right;\">\n",
              "      <th></th>\n",
              "      <th>Administrative</th>\n",
              "      <th>Administrative_Duration</th>\n",
              "      <th>Informational</th>\n",
              "      <th>Informational_Duration</th>\n",
              "      <th>ProductRelated</th>\n",
              "      <th>ProductRelated_Duration</th>\n",
              "      <th>BounceRates</th>\n",
              "      <th>ExitRates</th>\n",
              "      <th>PageValues</th>\n",
              "      <th>SpecialDay</th>\n",
              "      <th>Month</th>\n",
              "      <th>OperatingSystems</th>\n",
              "      <th>Browser</th>\n",
              "      <th>Region</th>\n",
              "      <th>TrafficType</th>\n",
              "      <th>VisitorType</th>\n",
              "      <th>Weekend</th>\n",
              "      <th>Revenue</th>\n",
              "    </tr>\n",
              "  </thead>\n",
              "  <tbody>\n",
              "    <tr>\n",
              "      <th>0</th>\n",
              "      <td>False</td>\n",
              "      <td>False</td>\n",
              "      <td>False</td>\n",
              "      <td>False</td>\n",
              "      <td>False</td>\n",
              "      <td>False</td>\n",
              "      <td>False</td>\n",
              "      <td>False</td>\n",
              "      <td>False</td>\n",
              "      <td>False</td>\n",
              "      <td>False</td>\n",
              "      <td>False</td>\n",
              "      <td>False</td>\n",
              "      <td>False</td>\n",
              "      <td>False</td>\n",
              "      <td>False</td>\n",
              "      <td>False</td>\n",
              "      <td>False</td>\n",
              "    </tr>\n",
              "    <tr>\n",
              "      <th>1</th>\n",
              "      <td>False</td>\n",
              "      <td>False</td>\n",
              "      <td>False</td>\n",
              "      <td>False</td>\n",
              "      <td>False</td>\n",
              "      <td>False</td>\n",
              "      <td>False</td>\n",
              "      <td>False</td>\n",
              "      <td>False</td>\n",
              "      <td>False</td>\n",
              "      <td>False</td>\n",
              "      <td>False</td>\n",
              "      <td>False</td>\n",
              "      <td>False</td>\n",
              "      <td>False</td>\n",
              "      <td>False</td>\n",
              "      <td>False</td>\n",
              "      <td>False</td>\n",
              "    </tr>\n",
              "    <tr>\n",
              "      <th>2</th>\n",
              "      <td>False</td>\n",
              "      <td>False</td>\n",
              "      <td>False</td>\n",
              "      <td>False</td>\n",
              "      <td>False</td>\n",
              "      <td>False</td>\n",
              "      <td>False</td>\n",
              "      <td>False</td>\n",
              "      <td>False</td>\n",
              "      <td>False</td>\n",
              "      <td>False</td>\n",
              "      <td>False</td>\n",
              "      <td>False</td>\n",
              "      <td>False</td>\n",
              "      <td>False</td>\n",
              "      <td>False</td>\n",
              "      <td>False</td>\n",
              "      <td>False</td>\n",
              "    </tr>\n",
              "    <tr>\n",
              "      <th>3</th>\n",
              "      <td>False</td>\n",
              "      <td>False</td>\n",
              "      <td>False</td>\n",
              "      <td>False</td>\n",
              "      <td>False</td>\n",
              "      <td>False</td>\n",
              "      <td>False</td>\n",
              "      <td>False</td>\n",
              "      <td>False</td>\n",
              "      <td>False</td>\n",
              "      <td>False</td>\n",
              "      <td>False</td>\n",
              "      <td>False</td>\n",
              "      <td>False</td>\n",
              "      <td>False</td>\n",
              "      <td>False</td>\n",
              "      <td>False</td>\n",
              "      <td>False</td>\n",
              "    </tr>\n",
              "    <tr>\n",
              "      <th>4</th>\n",
              "      <td>False</td>\n",
              "      <td>False</td>\n",
              "      <td>False</td>\n",
              "      <td>False</td>\n",
              "      <td>False</td>\n",
              "      <td>False</td>\n",
              "      <td>False</td>\n",
              "      <td>False</td>\n",
              "      <td>False</td>\n",
              "      <td>False</td>\n",
              "      <td>False</td>\n",
              "      <td>False</td>\n",
              "      <td>False</td>\n",
              "      <td>False</td>\n",
              "      <td>False</td>\n",
              "      <td>False</td>\n",
              "      <td>False</td>\n",
              "      <td>False</td>\n",
              "    </tr>\n",
              "    <tr>\n",
              "      <th>...</th>\n",
              "      <td>...</td>\n",
              "      <td>...</td>\n",
              "      <td>...</td>\n",
              "      <td>...</td>\n",
              "      <td>...</td>\n",
              "      <td>...</td>\n",
              "      <td>...</td>\n",
              "      <td>...</td>\n",
              "      <td>...</td>\n",
              "      <td>...</td>\n",
              "      <td>...</td>\n",
              "      <td>...</td>\n",
              "      <td>...</td>\n",
              "      <td>...</td>\n",
              "      <td>...</td>\n",
              "      <td>...</td>\n",
              "      <td>...</td>\n",
              "      <td>...</td>\n",
              "    </tr>\n",
              "    <tr>\n",
              "      <th>12325</th>\n",
              "      <td>False</td>\n",
              "      <td>False</td>\n",
              "      <td>False</td>\n",
              "      <td>False</td>\n",
              "      <td>False</td>\n",
              "      <td>False</td>\n",
              "      <td>False</td>\n",
              "      <td>False</td>\n",
              "      <td>False</td>\n",
              "      <td>False</td>\n",
              "      <td>False</td>\n",
              "      <td>False</td>\n",
              "      <td>False</td>\n",
              "      <td>False</td>\n",
              "      <td>False</td>\n",
              "      <td>False</td>\n",
              "      <td>False</td>\n",
              "      <td>False</td>\n",
              "    </tr>\n",
              "    <tr>\n",
              "      <th>12326</th>\n",
              "      <td>False</td>\n",
              "      <td>False</td>\n",
              "      <td>False</td>\n",
              "      <td>False</td>\n",
              "      <td>False</td>\n",
              "      <td>False</td>\n",
              "      <td>False</td>\n",
              "      <td>False</td>\n",
              "      <td>False</td>\n",
              "      <td>False</td>\n",
              "      <td>False</td>\n",
              "      <td>False</td>\n",
              "      <td>False</td>\n",
              "      <td>False</td>\n",
              "      <td>False</td>\n",
              "      <td>False</td>\n",
              "      <td>False</td>\n",
              "      <td>False</td>\n",
              "    </tr>\n",
              "    <tr>\n",
              "      <th>12327</th>\n",
              "      <td>False</td>\n",
              "      <td>False</td>\n",
              "      <td>False</td>\n",
              "      <td>False</td>\n",
              "      <td>False</td>\n",
              "      <td>False</td>\n",
              "      <td>False</td>\n",
              "      <td>False</td>\n",
              "      <td>False</td>\n",
              "      <td>False</td>\n",
              "      <td>False</td>\n",
              "      <td>False</td>\n",
              "      <td>False</td>\n",
              "      <td>False</td>\n",
              "      <td>False</td>\n",
              "      <td>False</td>\n",
              "      <td>False</td>\n",
              "      <td>False</td>\n",
              "    </tr>\n",
              "    <tr>\n",
              "      <th>12328</th>\n",
              "      <td>False</td>\n",
              "      <td>False</td>\n",
              "      <td>False</td>\n",
              "      <td>False</td>\n",
              "      <td>False</td>\n",
              "      <td>False</td>\n",
              "      <td>False</td>\n",
              "      <td>False</td>\n",
              "      <td>False</td>\n",
              "      <td>False</td>\n",
              "      <td>False</td>\n",
              "      <td>False</td>\n",
              "      <td>False</td>\n",
              "      <td>False</td>\n",
              "      <td>False</td>\n",
              "      <td>False</td>\n",
              "      <td>False</td>\n",
              "      <td>False</td>\n",
              "    </tr>\n",
              "    <tr>\n",
              "      <th>12329</th>\n",
              "      <td>False</td>\n",
              "      <td>False</td>\n",
              "      <td>False</td>\n",
              "      <td>False</td>\n",
              "      <td>False</td>\n",
              "      <td>False</td>\n",
              "      <td>False</td>\n",
              "      <td>False</td>\n",
              "      <td>False</td>\n",
              "      <td>False</td>\n",
              "      <td>False</td>\n",
              "      <td>False</td>\n",
              "      <td>False</td>\n",
              "      <td>False</td>\n",
              "      <td>False</td>\n",
              "      <td>False</td>\n",
              "      <td>False</td>\n",
              "      <td>False</td>\n",
              "    </tr>\n",
              "  </tbody>\n",
              "</table>\n",
              "<p>12330 rows × 18 columns</p>\n",
              "</div>"
            ],
            "text/plain": [
              "       Administrative  Administrative_Duration  ...  Weekend  Revenue\n",
              "0               False                    False  ...    False    False\n",
              "1               False                    False  ...    False    False\n",
              "2               False                    False  ...    False    False\n",
              "3               False                    False  ...    False    False\n",
              "4               False                    False  ...    False    False\n",
              "...               ...                      ...  ...      ...      ...\n",
              "12325           False                    False  ...    False    False\n",
              "12326           False                    False  ...    False    False\n",
              "12327           False                    False  ...    False    False\n",
              "12328           False                    False  ...    False    False\n",
              "12329           False                    False  ...    False    False\n",
              "\n",
              "[12330 rows x 18 columns]"
            ]
          },
          "metadata": {
            "tags": []
          },
          "execution_count": 4
        }
      ]
    },
    {
      "cell_type": "code",
      "metadata": {
        "colab": {
          "base_uri": "https://localhost:8080/"
        },
        "id": "e7BsRPazGXK4",
        "outputId": "a6b3a8ff-c867-4dc7-ef5b-f12e9a3014ee"
      },
      "source": [
        "dataset.info()"
      ],
      "execution_count": 5,
      "outputs": [
        {
          "output_type": "stream",
          "text": [
            "<class 'pandas.core.frame.DataFrame'>\n",
            "RangeIndex: 12330 entries, 0 to 12329\n",
            "Data columns (total 18 columns):\n",
            " #   Column                   Non-Null Count  Dtype  \n",
            "---  ------                   --------------  -----  \n",
            " 0   Administrative           12330 non-null  int64  \n",
            " 1   Administrative_Duration  12330 non-null  float64\n",
            " 2   Informational            12330 non-null  int64  \n",
            " 3   Informational_Duration   12330 non-null  float64\n",
            " 4   ProductRelated           12330 non-null  int64  \n",
            " 5   ProductRelated_Duration  12330 non-null  float64\n",
            " 6   BounceRates              12330 non-null  float64\n",
            " 7   ExitRates                12330 non-null  float64\n",
            " 8   PageValues               12330 non-null  float64\n",
            " 9   SpecialDay               12330 non-null  float64\n",
            " 10  Month                    12330 non-null  object \n",
            " 11  OperatingSystems         12330 non-null  int64  \n",
            " 12  Browser                  12330 non-null  int64  \n",
            " 13  Region                   12330 non-null  int64  \n",
            " 14  TrafficType              12330 non-null  int64  \n",
            " 15  VisitorType              12330 non-null  object \n",
            " 16  Weekend                  12330 non-null  bool   \n",
            " 17  Revenue                  12330 non-null  bool   \n",
            "dtypes: bool(2), float64(7), int64(7), object(2)\n",
            "memory usage: 1.5+ MB\n"
          ],
          "name": "stdout"
        }
      ]
    },
    {
      "cell_type": "markdown",
      "metadata": {
        "id": "4SmtBdQcHUAt"
      },
      "source": [
        "Seems like all cells are filled and there are no missing values. Also, the time spent on a certain type of page owuld generally correlate with the number of that type of pages visited. Hence, I'll drop the number of each type of page visited and just keep the duration columns. I'll also check the description of the columns to understand the range of each column."
      ]
    },
    {
      "cell_type": "code",
      "metadata": {
        "colab": {
          "base_uri": "https://localhost:8080/",
          "height": 304
        },
        "id": "InB8J_FlGXNj",
        "outputId": "c7fa059d-8ad3-49bd-d0e9-b984595899b8"
      },
      "source": [
        "dataset.describe()"
      ],
      "execution_count": 6,
      "outputs": [
        {
          "output_type": "execute_result",
          "data": {
            "text/html": [
              "<div>\n",
              "<style scoped>\n",
              "    .dataframe tbody tr th:only-of-type {\n",
              "        vertical-align: middle;\n",
              "    }\n",
              "\n",
              "    .dataframe tbody tr th {\n",
              "        vertical-align: top;\n",
              "    }\n",
              "\n",
              "    .dataframe thead th {\n",
              "        text-align: right;\n",
              "    }\n",
              "</style>\n",
              "<table border=\"1\" class=\"dataframe\">\n",
              "  <thead>\n",
              "    <tr style=\"text-align: right;\">\n",
              "      <th></th>\n",
              "      <th>Administrative</th>\n",
              "      <th>Administrative_Duration</th>\n",
              "      <th>Informational</th>\n",
              "      <th>Informational_Duration</th>\n",
              "      <th>ProductRelated</th>\n",
              "      <th>ProductRelated_Duration</th>\n",
              "      <th>BounceRates</th>\n",
              "      <th>ExitRates</th>\n",
              "      <th>PageValues</th>\n",
              "      <th>SpecialDay</th>\n",
              "      <th>OperatingSystems</th>\n",
              "      <th>Browser</th>\n",
              "      <th>Region</th>\n",
              "      <th>TrafficType</th>\n",
              "    </tr>\n",
              "  </thead>\n",
              "  <tbody>\n",
              "    <tr>\n",
              "      <th>count</th>\n",
              "      <td>12330.000000</td>\n",
              "      <td>12330.000000</td>\n",
              "      <td>12330.000000</td>\n",
              "      <td>12330.000000</td>\n",
              "      <td>12330.000000</td>\n",
              "      <td>12330.000000</td>\n",
              "      <td>12330.000000</td>\n",
              "      <td>12330.000000</td>\n",
              "      <td>12330.000000</td>\n",
              "      <td>12330.000000</td>\n",
              "      <td>12330.000000</td>\n",
              "      <td>12330.000000</td>\n",
              "      <td>12330.000000</td>\n",
              "      <td>12330.000000</td>\n",
              "    </tr>\n",
              "    <tr>\n",
              "      <th>mean</th>\n",
              "      <td>2.315166</td>\n",
              "      <td>80.818611</td>\n",
              "      <td>0.503569</td>\n",
              "      <td>34.472398</td>\n",
              "      <td>31.731468</td>\n",
              "      <td>1194.746220</td>\n",
              "      <td>0.022191</td>\n",
              "      <td>0.043073</td>\n",
              "      <td>5.889258</td>\n",
              "      <td>0.061427</td>\n",
              "      <td>2.124006</td>\n",
              "      <td>2.357097</td>\n",
              "      <td>3.147364</td>\n",
              "      <td>4.069586</td>\n",
              "    </tr>\n",
              "    <tr>\n",
              "      <th>std</th>\n",
              "      <td>3.321784</td>\n",
              "      <td>176.779107</td>\n",
              "      <td>1.270156</td>\n",
              "      <td>140.749294</td>\n",
              "      <td>44.475503</td>\n",
              "      <td>1913.669288</td>\n",
              "      <td>0.048488</td>\n",
              "      <td>0.048597</td>\n",
              "      <td>18.568437</td>\n",
              "      <td>0.198917</td>\n",
              "      <td>0.911325</td>\n",
              "      <td>1.717277</td>\n",
              "      <td>2.401591</td>\n",
              "      <td>4.025169</td>\n",
              "    </tr>\n",
              "    <tr>\n",
              "      <th>min</th>\n",
              "      <td>0.000000</td>\n",
              "      <td>0.000000</td>\n",
              "      <td>0.000000</td>\n",
              "      <td>0.000000</td>\n",
              "      <td>0.000000</td>\n",
              "      <td>0.000000</td>\n",
              "      <td>0.000000</td>\n",
              "      <td>0.000000</td>\n",
              "      <td>0.000000</td>\n",
              "      <td>0.000000</td>\n",
              "      <td>1.000000</td>\n",
              "      <td>1.000000</td>\n",
              "      <td>1.000000</td>\n",
              "      <td>1.000000</td>\n",
              "    </tr>\n",
              "    <tr>\n",
              "      <th>25%</th>\n",
              "      <td>0.000000</td>\n",
              "      <td>0.000000</td>\n",
              "      <td>0.000000</td>\n",
              "      <td>0.000000</td>\n",
              "      <td>7.000000</td>\n",
              "      <td>184.137500</td>\n",
              "      <td>0.000000</td>\n",
              "      <td>0.014286</td>\n",
              "      <td>0.000000</td>\n",
              "      <td>0.000000</td>\n",
              "      <td>2.000000</td>\n",
              "      <td>2.000000</td>\n",
              "      <td>1.000000</td>\n",
              "      <td>2.000000</td>\n",
              "    </tr>\n",
              "    <tr>\n",
              "      <th>50%</th>\n",
              "      <td>1.000000</td>\n",
              "      <td>7.500000</td>\n",
              "      <td>0.000000</td>\n",
              "      <td>0.000000</td>\n",
              "      <td>18.000000</td>\n",
              "      <td>598.936905</td>\n",
              "      <td>0.003112</td>\n",
              "      <td>0.025156</td>\n",
              "      <td>0.000000</td>\n",
              "      <td>0.000000</td>\n",
              "      <td>2.000000</td>\n",
              "      <td>2.000000</td>\n",
              "      <td>3.000000</td>\n",
              "      <td>2.000000</td>\n",
              "    </tr>\n",
              "    <tr>\n",
              "      <th>75%</th>\n",
              "      <td>4.000000</td>\n",
              "      <td>93.256250</td>\n",
              "      <td>0.000000</td>\n",
              "      <td>0.000000</td>\n",
              "      <td>38.000000</td>\n",
              "      <td>1464.157213</td>\n",
              "      <td>0.016813</td>\n",
              "      <td>0.050000</td>\n",
              "      <td>0.000000</td>\n",
              "      <td>0.000000</td>\n",
              "      <td>3.000000</td>\n",
              "      <td>2.000000</td>\n",
              "      <td>4.000000</td>\n",
              "      <td>4.000000</td>\n",
              "    </tr>\n",
              "    <tr>\n",
              "      <th>max</th>\n",
              "      <td>27.000000</td>\n",
              "      <td>3398.750000</td>\n",
              "      <td>24.000000</td>\n",
              "      <td>2549.375000</td>\n",
              "      <td>705.000000</td>\n",
              "      <td>63973.522230</td>\n",
              "      <td>0.200000</td>\n",
              "      <td>0.200000</td>\n",
              "      <td>361.763742</td>\n",
              "      <td>1.000000</td>\n",
              "      <td>8.000000</td>\n",
              "      <td>13.000000</td>\n",
              "      <td>9.000000</td>\n",
              "      <td>20.000000</td>\n",
              "    </tr>\n",
              "  </tbody>\n",
              "</table>\n",
              "</div>"
            ],
            "text/plain": [
              "       Administrative  Administrative_Duration  ...        Region   TrafficType\n",
              "count    12330.000000             12330.000000  ...  12330.000000  12330.000000\n",
              "mean         2.315166                80.818611  ...      3.147364      4.069586\n",
              "std          3.321784               176.779107  ...      2.401591      4.025169\n",
              "min          0.000000                 0.000000  ...      1.000000      1.000000\n",
              "25%          0.000000                 0.000000  ...      1.000000      2.000000\n",
              "50%          1.000000                 7.500000  ...      3.000000      2.000000\n",
              "75%          4.000000                93.256250  ...      4.000000      4.000000\n",
              "max         27.000000              3398.750000  ...      9.000000     20.000000\n",
              "\n",
              "[8 rows x 14 columns]"
            ]
          },
          "metadata": {
            "tags": []
          },
          "execution_count": 6
        }
      ]
    },
    {
      "cell_type": "markdown",
      "metadata": {
        "id": "jzXamTowHauQ"
      },
      "source": [
        "The mean of each column is very varied from one another and hence scaling should help with it. Considering that Revenue is the target column, I'll split the dataset into test and train sets."
      ]
    },
    {
      "cell_type": "code",
      "metadata": {
        "id": "WspNMRFyGXQF"
      },
      "source": [
        "X = dataset.iloc[:,:-1]\n",
        "Y = dataset.iloc[:,-1]"
      ],
      "execution_count": 7,
      "outputs": []
    },
    {
      "cell_type": "code",
      "metadata": {
        "colab": {
          "base_uri": "https://localhost:8080/"
        },
        "id": "-A22SRDD3Tcy",
        "outputId": "a433e4e2-8bfa-4f6d-cbea-49a2a963bd19"
      },
      "source": [
        "X.shape"
      ],
      "execution_count": 8,
      "outputs": [
        {
          "output_type": "execute_result",
          "data": {
            "text/plain": [
              "(12330, 17)"
            ]
          },
          "metadata": {
            "tags": []
          },
          "execution_count": 8
        }
      ]
    },
    {
      "cell_type": "markdown",
      "metadata": {
        "id": "iiMxicpUIe1O"
      },
      "source": [
        "# **Data analysis and visualization**"
      ]
    },
    {
      "cell_type": "markdown",
      "metadata": {
        "id": "DUrKKOH_Ionb"
      },
      "source": [
        "Let's take a deep dive and try to understand the dataset through visualizations."
      ]
    },
    {
      "cell_type": "markdown",
      "metadata": {
        "id": "bIy5z6iaIoau"
      },
      "source": [
        "## **Target column**"
      ]
    },
    {
      "cell_type": "markdown",
      "metadata": {
        "id": "DQwhnBc3IoRS"
      },
      "source": [
        "The first step is to take a look at the distribution of the data between the two classes."
      ]
    },
    {
      "cell_type": "code",
      "metadata": {
        "colab": {
          "base_uri": "https://localhost:8080/"
        },
        "id": "eH4KG57RGXSt",
        "outputId": "9881adcd-eb0d-4a27-cf47-56ec2e306e4f"
      },
      "source": [
        "target_distribution = Y.value_counts()\n",
        "print(target_distribution)"
      ],
      "execution_count": 10,
      "outputs": [
        {
          "output_type": "stream",
          "text": [
            "False    10422\n",
            "True      1908\n",
            "Name: Revenue, dtype: int64\n"
          ],
          "name": "stdout"
        }
      ]
    },
    {
      "cell_type": "code",
      "metadata": {
        "colab": {
          "base_uri": "https://localhost:8080/"
        },
        "id": "M7wCx-X3rTBO",
        "outputId": "f5785f52-2b4b-426f-eac6-0ffa31dd442e"
      },
      "source": [
        "print(target_distribution.keys().tolist(), target_distribution.tolist())"
      ],
      "execution_count": 11,
      "outputs": [
        {
          "output_type": "stream",
          "text": [
            "[False, True] [10422, 1908]\n"
          ],
          "name": "stdout"
        }
      ]
    },
    {
      "cell_type": "code",
      "metadata": {
        "colab": {
          "base_uri": "https://localhost:8080/",
          "height": 542
        },
        "id": "DmBh8aDrGXVZ",
        "outputId": "6892f96e-108a-42f2-ee2f-1f9e952f9a61"
      },
      "source": [
        "plt.figure(figsize = (20, 8))\n",
        "\n",
        "plt.bar(target_distribution.keys().tolist(), target_distribution.tolist(), color = ['red', 'green'])\n",
        "\n",
        "plt.xlabel('Revenue generated', fontsize = 16)\n",
        "plt.ylabel('Count', fontsize = 16)\n",
        "plt.xticks([0.0, 1.0], ['No', 'Yes'], fontsize = 16)\n",
        "plt.yticks(fontsize = 16)\n",
        "plt.title('Count of visitors based on revenue generated', fontsize = 16)"
      ],
      "execution_count": 12,
      "outputs": [
        {
          "output_type": "execute_result",
          "data": {
            "text/plain": [
              "Text(0.5, 1.0, 'Count of visitors based on revenue generated')"
            ]
          },
          "metadata": {
            "tags": []
          },
          "execution_count": 12
        },
        {
          "output_type": "display_data",
          "data": {
            "image/png": "[encoded data removed]",
            "text/plain": [
              "<Figure size 1440x576 with 1 Axes>"
            ]
          },
          "metadata": {
            "tags": [],
            "needs_background": "light"
          }
        }
      ]
    },
    {
      "cell_type": "markdown",
      "metadata": {
        "id": "AwaY0IbQznwk"
      },
      "source": [
        "As is clear from the bar plot above, the dataset includes majority of feature values that resulted in no revenue generation. The dataset is highly unbalanced and this is where we'd have to create an efficient model that can still classify between the two classes."
      ]
    },
    {
      "cell_type": "markdown",
      "metadata": {
        "id": "-gQSEAT5ztHt"
      },
      "source": [
        "### **Correlation matrix**"
      ]
    },
    {
      "cell_type": "markdown",
      "metadata": {
        "id": "GfEWsp87zsTQ"
      },
      "source": [
        "I'll directly analyse the matrix rather than using a plotting library to create a correlation plot. However, to quickly analyse the output, I'll use the coolwarm cmap."
      ]
    },
    {
      "cell_type": "code",
      "metadata": {
        "colab": {
          "base_uri": "https://localhost:8080/",
          "height": 378
        },
        "id": "kJLWjFwLzzqa",
        "outputId": "c2cc1d68-c01c-4ddf-a87f-f473bcbe4c3c"
      },
      "source": [
        "corr = dataset.corr()\n",
        "corr.style.background_gradient(cmap = 'coolwarm')"
      ],
      "execution_count": 13,
      "outputs": [
        {
          "output_type": "execute_result",
          "data": {
            "text/html": [
              "<style  type=\"text/css\" >\n",
              "#T_b25e81bc_92a9_11eb_897c_0242ac1c0002row0_col0,#T_b25e81bc_92a9_11eb_897c_0242ac1c0002row1_col1,#T_b25e81bc_92a9_11eb_897c_0242ac1c0002row2_col2,#T_b25e81bc_92a9_11eb_897c_0242ac1c0002row3_col3,#T_b25e81bc_92a9_11eb_897c_0242ac1c0002row4_col4,#T_b25e81bc_92a9_11eb_897c_0242ac1c0002row5_col5,#T_b25e81bc_92a9_11eb_897c_0242ac1c0002row6_col6,#T_b25e81bc_92a9_11eb_897c_0242ac1c0002row7_col7,#T_b25e81bc_92a9_11eb_897c_0242ac1c0002row8_col8,#T_b25e81bc_92a9_11eb_897c_0242ac1c0002row9_col9,#T_b25e81bc_92a9_11eb_897c_0242ac1c0002row10_col10,#T_b25e81bc_92a9_11eb_897c_0242ac1c0002row11_col11,#T_b25e81bc_92a9_11eb_897c_0242ac1c0002row12_col12,#T_b25e81bc_92a9_11eb_897c_0242ac1c0002row13_col13,#T_b25e81bc_92a9_11eb_897c_0242ac1c0002row14_col14,#T_b25e81bc_92a9_11eb_897c_0242ac1c0002row15_col15{\n",
              "            background-color:  #b40426;\n",
              "            color:  #f1f1f1;\n",
              "        }#T_b25e81bc_92a9_11eb_897c_0242ac1c0002row0_col1{\n",
              "            background-color:  #f7b79b;\n",
              "            color:  #000000;\n",
              "        }#T_b25e81bc_92a9_11eb_897c_0242ac1c0002row0_col2,#T_b25e81bc_92a9_11eb_897c_0242ac1c0002row4_col2{\n",
              "            background-color:  #d3dbe7;\n",
              "            color:  #000000;\n",
              "        }#T_b25e81bc_92a9_11eb_897c_0242ac1c0002row0_col3{\n",
              "            background-color:  #a7c5fe;\n",
              "            color:  #000000;\n",
              "        }#T_b25e81bc_92a9_11eb_897c_0242ac1c0002row0_col4{\n",
              "            background-color:  #ebd3c6;\n",
              "            color:  #000000;\n",
              "        }#T_b25e81bc_92a9_11eb_897c_0242ac1c0002row0_col5{\n",
              "            background-color:  #dcdddd;\n",
              "            color:  #000000;\n",
              "        }#T_b25e81bc_92a9_11eb_897c_0242ac1c0002row0_col6,#T_b25e81bc_92a9_11eb_897c_0242ac1c0002row0_col7,#T_b25e81bc_92a9_11eb_897c_0242ac1c0002row0_col9,#T_b25e81bc_92a9_11eb_897c_0242ac1c0002row2_col11,#T_b25e81bc_92a9_11eb_897c_0242ac1c0002row4_col12,#T_b25e81bc_92a9_11eb_897c_0242ac1c0002row4_col13,#T_b25e81bc_92a9_11eb_897c_0242ac1c0002row7_col0,#T_b25e81bc_92a9_11eb_897c_0242ac1c0002row7_col1,#T_b25e81bc_92a9_11eb_897c_0242ac1c0002row7_col2,#T_b25e81bc_92a9_11eb_897c_0242ac1c0002row7_col3,#T_b25e81bc_92a9_11eb_897c_0242ac1c0002row7_col4,#T_b25e81bc_92a9_11eb_897c_0242ac1c0002row7_col5,#T_b25e81bc_92a9_11eb_897c_0242ac1c0002row7_col8,#T_b25e81bc_92a9_11eb_897c_0242ac1c0002row7_col14,#T_b25e81bc_92a9_11eb_897c_0242ac1c0002row7_col15,#T_b25e81bc_92a9_11eb_897c_0242ac1c0002row14_col11,#T_b25e81bc_92a9_11eb_897c_0242ac1c0002row15_col10{\n",
              "            background-color:  #3b4cc0;\n",
              "            color:  #f1f1f1;\n",
              "        }#T_b25e81bc_92a9_11eb_897c_0242ac1c0002row0_col8,#T_b25e81bc_92a9_11eb_897c_0242ac1c0002row11_col10,#T_b25e81bc_92a9_11eb_897c_0242ac1c0002row12_col7{\n",
              "            background-color:  #86a9fc;\n",
              "            color:  #000000;\n",
              "        }#T_b25e81bc_92a9_11eb_897c_0242ac1c0002row0_col10,#T_b25e81bc_92a9_11eb_897c_0242ac1c0002row0_col13,#T_b25e81bc_92a9_11eb_897c_0242ac1c0002row2_col12,#T_b25e81bc_92a9_11eb_897c_0242ac1c0002row2_col13,#T_b25e81bc_92a9_11eb_897c_0242ac1c0002row3_col12,#T_b25e81bc_92a9_11eb_897c_0242ac1c0002row15_col9{\n",
              "            background-color:  #3d50c3;\n",
              "            color:  #f1f1f1;\n",
              "        }#T_b25e81bc_92a9_11eb_897c_0242ac1c0002row0_col11,#T_b25e81bc_92a9_11eb_897c_0242ac1c0002row4_col6,#T_b25e81bc_92a9_11eb_897c_0242ac1c0002row6_col14,#T_b25e81bc_92a9_11eb_897c_0242ac1c0002row14_col10{\n",
              "            background-color:  #3e51c5;\n",
              "            color:  #f1f1f1;\n",
              "        }#T_b25e81bc_92a9_11eb_897c_0242ac1c0002row0_col12,#T_b25e81bc_92a9_11eb_897c_0242ac1c0002row1_col12,#T_b25e81bc_92a9_11eb_897c_0242ac1c0002row5_col6,#T_b25e81bc_92a9_11eb_897c_0242ac1c0002row5_col11,#T_b25e81bc_92a9_11eb_897c_0242ac1c0002row7_col11,#T_b25e81bc_92a9_11eb_897c_0242ac1c0002row8_col10{\n",
              "            background-color:  #445acc;\n",
              "            color:  #f1f1f1;\n",
              "        }#T_b25e81bc_92a9_11eb_897c_0242ac1c0002row0_col14,#T_b25e81bc_92a9_11eb_897c_0242ac1c0002row1_col7,#T_b25e81bc_92a9_11eb_897c_0242ac1c0002row8_col6,#T_b25e81bc_92a9_11eb_897c_0242ac1c0002row8_col11,#T_b25e81bc_92a9_11eb_897c_0242ac1c0002row13_col12,#T_b25e81bc_92a9_11eb_897c_0242ac1c0002row15_col7{\n",
              "            background-color:  #5470de;\n",
              "            color:  #000000;\n",
              "        }#T_b25e81bc_92a9_11eb_897c_0242ac1c0002row0_col15{\n",
              "            background-color:  #9abbff;\n",
              "            color:  #000000;\n",
              "        }#T_b25e81bc_92a9_11eb_897c_0242ac1c0002row1_col0{\n",
              "            background-color:  #f7ad90;\n",
              "            color:  #000000;\n",
              "        }#T_b25e81bc_92a9_11eb_897c_0242ac1c0002row1_col2{\n",
              "            background-color:  #c0d4f5;\n",
              "            color:  #000000;\n",
              "        }#T_b25e81bc_92a9_11eb_897c_0242ac1c0002row1_col3{\n",
              "            background-color:  #a2c1ff;\n",
              "            color:  #000000;\n",
              "        }#T_b25e81bc_92a9_11eb_897c_0242ac1c0002row1_col4{\n",
              "            background-color:  #cfdaea;\n",
              "            color:  #000000;\n",
              "        }#T_b25e81bc_92a9_11eb_897c_0242ac1c0002row1_col5{\n",
              "            background-color:  #d9dce1;\n",
              "            color:  #000000;\n",
              "        }#T_b25e81bc_92a9_11eb_897c_0242ac1c0002row1_col6,#T_b25e81bc_92a9_11eb_897c_0242ac1c0002row4_col9,#T_b25e81bc_92a9_11eb_897c_0242ac1c0002row5_col14{\n",
              "            background-color:  #4e68d8;\n",
              "            color:  #000000;\n",
              "        }#T_b25e81bc_92a9_11eb_897c_0242ac1c0002row1_col8,#T_b25e81bc_92a9_11eb_897c_0242ac1c0002row10_col5{\n",
              "            background-color:  #7da0f9;\n",
              "            color:  #000000;\n",
              "        }#T_b25e81bc_92a9_11eb_897c_0242ac1c0002row1_col9,#T_b25e81bc_92a9_11eb_897c_0242ac1c0002row3_col11,#T_b25e81bc_92a9_11eb_897c_0242ac1c0002row9_col12,#T_b25e81bc_92a9_11eb_897c_0242ac1c0002row11_col14{\n",
              "            background-color:  #4055c8;\n",
              "            color:  #f1f1f1;\n",
              "        }#T_b25e81bc_92a9_11eb_897c_0242ac1c0002row1_col10,#T_b25e81bc_92a9_11eb_897c_0242ac1c0002row2_col10,#T_b25e81bc_92a9_11eb_897c_0242ac1c0002row3_col10,#T_b25e81bc_92a9_11eb_897c_0242ac1c0002row5_col12,#T_b25e81bc_92a9_11eb_897c_0242ac1c0002row5_col13{\n",
              "            background-color:  #3c4ec2;\n",
              "            color:  #f1f1f1;\n",
              "        }#T_b25e81bc_92a9_11eb_897c_0242ac1c0002row1_col11,#T_b25e81bc_92a9_11eb_897c_0242ac1c0002row4_col11,#T_b25e81bc_92a9_11eb_897c_0242ac1c0002row6_col11,#T_b25e81bc_92a9_11eb_897c_0242ac1c0002row9_col10,#T_b25e81bc_92a9_11eb_897c_0242ac1c0002row15_col12{\n",
              "            background-color:  #4257c9;\n",
              "            color:  #f1f1f1;\n",
              "        }#T_b25e81bc_92a9_11eb_897c_0242ac1c0002row1_col13,#T_b25e81bc_92a9_11eb_897c_0242ac1c0002row6_col3,#T_b25e81bc_92a9_11eb_897c_0242ac1c0002row6_col12,#T_b25e81bc_92a9_11eb_897c_0242ac1c0002row7_col10,#T_b25e81bc_92a9_11eb_897c_0242ac1c0002row7_col12,#T_b25e81bc_92a9_11eb_897c_0242ac1c0002row8_col9{\n",
              "            background-color:  #4358cb;\n",
              "            color:  #f1f1f1;\n",
              "        }#T_b25e81bc_92a9_11eb_897c_0242ac1c0002row1_col14,#T_b25e81bc_92a9_11eb_897c_0242ac1c0002row4_col14,#T_b25e81bc_92a9_11eb_897c_0242ac1c0002row6_col0,#T_b25e81bc_92a9_11eb_897c_0242ac1c0002row12_col3,#T_b25e81bc_92a9_11eb_897c_0242ac1c0002row12_col9,#T_b25e81bc_92a9_11eb_897c_0242ac1c0002row13_col3,#T_b25e81bc_92a9_11eb_897c_0242ac1c0002row14_col9{\n",
              "            background-color:  #506bda;\n",
              "            color:  #000000;\n",
              "        }#T_b25e81bc_92a9_11eb_897c_0242ac1c0002row1_col15,#T_b25e81bc_92a9_11eb_897c_0242ac1c0002row13_col6,#T_b25e81bc_92a9_11eb_897c_0242ac1c0002row15_col1{\n",
              "            background-color:  #8caffe;\n",
              "            color:  #000000;\n",
              "        }#T_b25e81bc_92a9_11eb_897c_0242ac1c0002row2_col0,#T_b25e81bc_92a9_11eb_897c_0242ac1c0002row5_col0{\n",
              "            background-color:  #e3d9d3;\n",
              "            color:  #000000;\n",
              "        }#T_b25e81bc_92a9_11eb_897c_0242ac1c0002row2_col1{\n",
              "            background-color:  #c6d6f1;\n",
              "            color:  #000000;\n",
              "        }#T_b25e81bc_92a9_11eb_897c_0242ac1c0002row2_col3{\n",
              "            background-color:  #f7bca1;\n",
              "            color:  #000000;\n",
              "        }#T_b25e81bc_92a9_11eb_897c_0242ac1c0002row2_col4{\n",
              "            background-color:  #e1dad6;\n",
              "            color:  #000000;\n",
              "        }#T_b25e81bc_92a9_11eb_897c_0242ac1c0002row2_col5{\n",
              "            background-color:  #dfdbd9;\n",
              "            color:  #000000;\n",
              "        }#T_b25e81bc_92a9_11eb_897c_0242ac1c0002row2_col6,#T_b25e81bc_92a9_11eb_897c_0242ac1c0002row10_col3,#T_b25e81bc_92a9_11eb_897c_0242ac1c0002row11_col9,#T_b25e81bc_92a9_11eb_897c_0242ac1c0002row12_col13,#T_b25e81bc_92a9_11eb_897c_0242ac1c0002row15_col14{\n",
              "            background-color:  #5572df;\n",
              "            color:  #000000;\n",
              "        }#T_b25e81bc_92a9_11eb_897c_0242ac1c0002row2_col7,#T_b25e81bc_92a9_11eb_897c_0242ac1c0002row6_col13,#T_b25e81bc_92a9_11eb_897c_0242ac1c0002row7_col13,#T_b25e81bc_92a9_11eb_897c_0242ac1c0002row12_col2,#T_b25e81bc_92a9_11eb_897c_0242ac1c0002row14_col3{\n",
              "            background-color:  #5e7de7;\n",
              "            color:  #000000;\n",
              "        }#T_b25e81bc_92a9_11eb_897c_0242ac1c0002row2_col8{\n",
              "            background-color:  #779af7;\n",
              "            color:  #000000;\n",
              "        }#T_b25e81bc_92a9_11eb_897c_0242ac1c0002row2_col9,#T_b25e81bc_92a9_11eb_897c_0242ac1c0002row6_col2,#T_b25e81bc_92a9_11eb_897c_0242ac1c0002row9_col11,#T_b25e81bc_92a9_11eb_897c_0242ac1c0002row14_col13{\n",
              "            background-color:  #465ecf;\n",
              "            color:  #f1f1f1;\n",
              "        }#T_b25e81bc_92a9_11eb_897c_0242ac1c0002row2_col14,#T_b25e81bc_92a9_11eb_897c_0242ac1c0002row9_col13,#T_b25e81bc_92a9_11eb_897c_0242ac1c0002row12_col10{\n",
              "            background-color:  #5673e0;\n",
              "            color:  #000000;\n",
              "        }#T_b25e81bc_92a9_11eb_897c_0242ac1c0002row2_col15,#T_b25e81bc_92a9_11eb_897c_0242ac1c0002row10_col7,#T_b25e81bc_92a9_11eb_897c_0242ac1c0002row10_col11{\n",
              "            background-color:  #8db0fe;\n",
              "            color:  #000000;\n",
              "        }#T_b25e81bc_92a9_11eb_897c_0242ac1c0002row3_col0{\n",
              "            background-color:  #cbd8ee;\n",
              "            color:  #000000;\n",
              "        }#T_b25e81bc_92a9_11eb_897c_0242ac1c0002row3_col1{\n",
              "            background-color:  #b6cefa;\n",
              "            color:  #000000;\n",
              "        }#T_b25e81bc_92a9_11eb_897c_0242ac1c0002row3_col2{\n",
              "            background-color:  #f7b599;\n",
              "            color:  #000000;\n",
              "        }#T_b25e81bc_92a9_11eb_897c_0242ac1c0002row3_col4{\n",
              "            background-color:  #cdd9ec;\n",
              "            color:  #000000;\n",
              "        }#T_b25e81bc_92a9_11eb_897c_0242ac1c0002row3_col5{\n",
              "            background-color:  #d7dce3;\n",
              "            color:  #000000;\n",
              "        }#T_b25e81bc_92a9_11eb_897c_0242ac1c0002row3_col6,#T_b25e81bc_92a9_11eb_897c_0242ac1c0002row8_col3{\n",
              "            background-color:  #6180e9;\n",
              "            color:  #000000;\n",
              "        }#T_b25e81bc_92a9_11eb_897c_0242ac1c0002row3_col7,#T_b25e81bc_92a9_11eb_897c_0242ac1c0002row12_col15{\n",
              "            background-color:  #6e90f2;\n",
              "            color:  #000000;\n",
              "        }#T_b25e81bc_92a9_11eb_897c_0242ac1c0002row3_col8,#T_b25e81bc_92a9_11eb_897c_0242ac1c0002row9_col5,#T_b25e81bc_92a9_11eb_897c_0242ac1c0002row12_col5,#T_b25e81bc_92a9_11eb_897c_0242ac1c0002row13_col5{\n",
              "            background-color:  #7295f4;\n",
              "            color:  #000000;\n",
              "        }#T_b25e81bc_92a9_11eb_897c_0242ac1c0002row3_col9,#T_b25e81bc_92a9_11eb_897c_0242ac1c0002row10_col14,#T_b25e81bc_92a9_11eb_897c_0242ac1c0002row15_col6,#T_b25e81bc_92a9_11eb_897c_0242ac1c0002row15_col11{\n",
              "            background-color:  #4c66d6;\n",
              "            color:  #000000;\n",
              "        }#T_b25e81bc_92a9_11eb_897c_0242ac1c0002row3_col13,#T_b25e81bc_92a9_11eb_897c_0242ac1c0002row4_col7,#T_b25e81bc_92a9_11eb_897c_0242ac1c0002row4_col10,#T_b25e81bc_92a9_11eb_897c_0242ac1c0002row5_col10{\n",
              "            background-color:  #3f53c6;\n",
              "            color:  #f1f1f1;\n",
              "        }#T_b25e81bc_92a9_11eb_897c_0242ac1c0002row3_col14{\n",
              "            background-color:  #536edd;\n",
              "            color:  #000000;\n",
              "        }#T_b25e81bc_92a9_11eb_897c_0242ac1c0002row3_col15,#T_b25e81bc_92a9_11eb_897c_0242ac1c0002row8_col1,#T_b25e81bc_92a9_11eb_897c_0242ac1c0002row10_col4{\n",
              "            background-color:  #85a8fc;\n",
              "            color:  #000000;\n",
              "        }#T_b25e81bc_92a9_11eb_897c_0242ac1c0002row4_col0,#T_b25e81bc_92a9_11eb_897c_0242ac1c0002row15_col8{\n",
              "            background-color:  #edd2c3;\n",
              "            color:  #000000;\n",
              "        }#T_b25e81bc_92a9_11eb_897c_0242ac1c0002row4_col1{\n",
              "            background-color:  #c4d5f3;\n",
              "            color:  #000000;\n",
              "        }#T_b25e81bc_92a9_11eb_897c_0242ac1c0002row4_col3,#T_b25e81bc_92a9_11eb_897c_0242ac1c0002row15_col4{\n",
              "            background-color:  #afcafc;\n",
              "            color:  #000000;\n",
              "        }#T_b25e81bc_92a9_11eb_897c_0242ac1c0002row4_col5{\n",
              "            background-color:  #d95847;\n",
              "            color:  #000000;\n",
              "        }#T_b25e81bc_92a9_11eb_897c_0242ac1c0002row4_col8,#T_b25e81bc_92a9_11eb_897c_0242ac1c0002row11_col5,#T_b25e81bc_92a9_11eb_897c_0242ac1c0002row12_col4,#T_b25e81bc_92a9_11eb_897c_0242ac1c0002row14_col15{\n",
              "            background-color:  #7a9df8;\n",
              "            color:  #000000;\n",
              "        }#T_b25e81bc_92a9_11eb_897c_0242ac1c0002row4_col15{\n",
              "            background-color:  #9fbfff;\n",
              "            color:  #000000;\n",
              "        }#T_b25e81bc_92a9_11eb_897c_0242ac1c0002row5_col1{\n",
              "            background-color:  #d4dbe6;\n",
              "            color:  #000000;\n",
              "        }#T_b25e81bc_92a9_11eb_897c_0242ac1c0002row5_col2{\n",
              "            background-color:  #d6dce4;\n",
              "            color:  #000000;\n",
              "        }#T_b25e81bc_92a9_11eb_897c_0242ac1c0002row5_col3{\n",
              "            background-color:  #c3d5f4;\n",
              "            color:  #000000;\n",
              "        }#T_b25e81bc_92a9_11eb_897c_0242ac1c0002row5_col4{\n",
              "            background-color:  #d85646;\n",
              "            color:  #000000;\n",
              "        }#T_b25e81bc_92a9_11eb_897c_0242ac1c0002row5_col7,#T_b25e81bc_92a9_11eb_897c_0242ac1c0002row6_col8,#T_b25e81bc_92a9_11eb_897c_0242ac1c0002row8_col12{\n",
              "            background-color:  #4961d2;\n",
              "            color:  #f1f1f1;\n",
              "        }#T_b25e81bc_92a9_11eb_897c_0242ac1c0002row5_col8,#T_b25e81bc_92a9_11eb_897c_0242ac1c0002row11_col15,#T_b25e81bc_92a9_11eb_897c_0242ac1c0002row13_col4,#T_b25e81bc_92a9_11eb_897c_0242ac1c0002row14_col7{\n",
              "            background-color:  #799cf8;\n",
              "            color:  #000000;\n",
              "        }#T_b25e81bc_92a9_11eb_897c_0242ac1c0002row5_col9,#T_b25e81bc_92a9_11eb_897c_0242ac1c0002row6_col1,#T_b25e81bc_92a9_11eb_897c_0242ac1c0002row6_col5,#T_b25e81bc_92a9_11eb_897c_0242ac1c0002row8_col13{\n",
              "            background-color:  #4a63d3;\n",
              "            color:  #f1f1f1;\n",
              "        }#T_b25e81bc_92a9_11eb_897c_0242ac1c0002row5_col15,#T_b25e81bc_92a9_11eb_897c_0242ac1c0002row13_col7{\n",
              "            background-color:  #9ebeff;\n",
              "            color:  #000000;\n",
              "        }#T_b25e81bc_92a9_11eb_897c_0242ac1c0002row6_col4,#T_b25e81bc_92a9_11eb_897c_0242ac1c0002row8_col14,#T_b25e81bc_92a9_11eb_897c_0242ac1c0002row9_col3{\n",
              "            background-color:  #4f69d9;\n",
              "            color:  #000000;\n",
              "        }#T_b25e81bc_92a9_11eb_897c_0242ac1c0002row6_col7{\n",
              "            background-color:  #cb3e38;\n",
              "            color:  #f1f1f1;\n",
              "        }#T_b25e81bc_92a9_11eb_897c_0242ac1c0002row6_col9{\n",
              "            background-color:  #6b8df0;\n",
              "            color:  #000000;\n",
              "        }#T_b25e81bc_92a9_11eb_897c_0242ac1c0002row6_col10,#T_b25e81bc_92a9_11eb_897c_0242ac1c0002row14_col12,#T_b25e81bc_92a9_11eb_897c_0242ac1c0002row15_col13{\n",
              "            background-color:  #455cce;\n",
              "            color:  #f1f1f1;\n",
              "        }#T_b25e81bc_92a9_11eb_897c_0242ac1c0002row6_col15,#T_b25e81bc_92a9_11eb_897c_0242ac1c0002row9_col14{\n",
              "            background-color:  #485fd1;\n",
              "            color:  #f1f1f1;\n",
              "        }#T_b25e81bc_92a9_11eb_897c_0242ac1c0002row7_col6{\n",
              "            background-color:  #cd423b;\n",
              "            color:  #f1f1f1;\n",
              "        }#T_b25e81bc_92a9_11eb_897c_0242ac1c0002row7_col9,#T_b25e81bc_92a9_11eb_897c_0242ac1c0002row8_col2,#T_b25e81bc_92a9_11eb_897c_0242ac1c0002row14_col1{\n",
              "            background-color:  #7597f6;\n",
              "            color:  #000000;\n",
              "        }#T_b25e81bc_92a9_11eb_897c_0242ac1c0002row8_col0{\n",
              "            background-color:  #a3c2fe;\n",
              "            color:  #000000;\n",
              "        }#T_b25e81bc_92a9_11eb_897c_0242ac1c0002row8_col4{\n",
              "            background-color:  #94b6ff;\n",
              "            color:  #000000;\n",
              "        }#T_b25e81bc_92a9_11eb_897c_0242ac1c0002row8_col5{\n",
              "            background-color:  #8badfd;\n",
              "            color:  #000000;\n",
              "        }#T_b25e81bc_92a9_11eb_897c_0242ac1c0002row8_col7,#T_b25e81bc_92a9_11eb_897c_0242ac1c0002row11_col2{\n",
              "            background-color:  #5b7ae5;\n",
              "            color:  #000000;\n",
              "        }#T_b25e81bc_92a9_11eb_897c_0242ac1c0002row8_col15{\n",
              "            background-color:  #efcfbf;\n",
              "            color:  #000000;\n",
              "        }#T_b25e81bc_92a9_11eb_897c_0242ac1c0002row9_col0,#T_b25e81bc_92a9_11eb_897c_0242ac1c0002row11_col6,#T_b25e81bc_92a9_11eb_897c_0242ac1c0002row14_col2{\n",
              "            background-color:  #7093f3;\n",
              "            color:  #000000;\n",
              "        }#T_b25e81bc_92a9_11eb_897c_0242ac1c0002row9_col1,#T_b25e81bc_92a9_11eb_897c_0242ac1c0002row10_col12,#T_b25e81bc_92a9_11eb_897c_0242ac1c0002row13_col2{\n",
              "            background-color:  #5d7ce6;\n",
              "            color:  #000000;\n",
              "        }#T_b25e81bc_92a9_11eb_897c_0242ac1c0002row9_col2,#T_b25e81bc_92a9_11eb_897c_0242ac1c0002row10_col9{\n",
              "            background-color:  #5977e3;\n",
              "            color:  #000000;\n",
              "        }#T_b25e81bc_92a9_11eb_897c_0242ac1c0002row9_col4,#T_b25e81bc_92a9_11eb_897c_0242ac1c0002row14_col5{\n",
              "            background-color:  #7ea1fa;\n",
              "            color:  #000000;\n",
              "        }#T_b25e81bc_92a9_11eb_897c_0242ac1c0002row9_col6,#T_b25e81bc_92a9_11eb_897c_0242ac1c0002row14_col4{\n",
              "            background-color:  #89acfd;\n",
              "            color:  #000000;\n",
              "        }#T_b25e81bc_92a9_11eb_897c_0242ac1c0002row9_col7{\n",
              "            background-color:  #a5c3fe;\n",
              "            color:  #000000;\n",
              "        }#T_b25e81bc_92a9_11eb_897c_0242ac1c0002row9_col8{\n",
              "            background-color:  #5875e1;\n",
              "            color:  #000000;\n",
              "        }#T_b25e81bc_92a9_11eb_897c_0242ac1c0002row9_col15{\n",
              "            background-color:  #5a78e4;\n",
              "            color:  #000000;\n",
              "        }#T_b25e81bc_92a9_11eb_897c_0242ac1c0002row10_col0,#T_b25e81bc_92a9_11eb_897c_0242ac1c0002row11_col7,#T_b25e81bc_92a9_11eb_897c_0242ac1c0002row12_col0{\n",
              "            background-color:  #88abfd;\n",
              "            color:  #000000;\n",
              "        }#T_b25e81bc_92a9_11eb_897c_0242ac1c0002row10_col1,#T_b25e81bc_92a9_11eb_897c_0242ac1c0002row10_col8,#T_b25e81bc_92a9_11eb_897c_0242ac1c0002row12_col1,#T_b25e81bc_92a9_11eb_897c_0242ac1c0002row13_col15{\n",
              "            background-color:  #6f92f3;\n",
              "            color:  #000000;\n",
              "        }#T_b25e81bc_92a9_11eb_897c_0242ac1c0002row10_col2,#T_b25e81bc_92a9_11eb_897c_0242ac1c0002row11_col12,#T_b25e81bc_92a9_11eb_897c_0242ac1c0002row12_col11{\n",
              "            background-color:  #6384eb;\n",
              "            color:  #000000;\n",
              "        }#T_b25e81bc_92a9_11eb_897c_0242ac1c0002row10_col6,#T_b25e81bc_92a9_11eb_897c_0242ac1c0002row13_col10{\n",
              "            background-color:  #7b9ff9;\n",
              "            color:  #000000;\n",
              "        }#T_b25e81bc_92a9_11eb_897c_0242ac1c0002row10_col13,#T_b25e81bc_92a9_11eb_897c_0242ac1c0002row11_col0,#T_b25e81bc_92a9_11eb_897c_0242ac1c0002row15_col2{\n",
              "            background-color:  #82a6fb;\n",
              "            color:  #000000;\n",
              "        }#T_b25e81bc_92a9_11eb_897c_0242ac1c0002row10_col15,#T_b25e81bc_92a9_11eb_897c_0242ac1c0002row11_col1,#T_b25e81bc_92a9_11eb_897c_0242ac1c0002row12_col8,#T_b25e81bc_92a9_11eb_897c_0242ac1c0002row13_col1,#T_b25e81bc_92a9_11eb_897c_0242ac1c0002row13_col8,#T_b25e81bc_92a9_11eb_897c_0242ac1c0002row14_col8,#T_b25e81bc_92a9_11eb_897c_0242ac1c0002row15_col3{\n",
              "            background-color:  #6c8ff1;\n",
              "            color:  #000000;\n",
              "        }#T_b25e81bc_92a9_11eb_897c_0242ac1c0002row11_col3{\n",
              "            background-color:  #516ddb;\n",
              "            color:  #000000;\n",
              "        }#T_b25e81bc_92a9_11eb_897c_0242ac1c0002row11_col4,#T_b25e81bc_92a9_11eb_897c_0242ac1c0002row13_col0{\n",
              "            background-color:  #81a4fb;\n",
              "            color:  #000000;\n",
              "        }#T_b25e81bc_92a9_11eb_897c_0242ac1c0002row11_col8{\n",
              "            background-color:  #7699f6;\n",
              "            color:  #000000;\n",
              "        }#T_b25e81bc_92a9_11eb_897c_0242ac1c0002row11_col13{\n",
              "            background-color:  #6a8bef;\n",
              "            color:  #000000;\n",
              "        }#T_b25e81bc_92a9_11eb_897c_0242ac1c0002row12_col6{\n",
              "            background-color:  #7396f5;\n",
              "            color:  #000000;\n",
              "        }#T_b25e81bc_92a9_11eb_897c_0242ac1c0002row12_col14,#T_b25e81bc_92a9_11eb_897c_0242ac1c0002row13_col14{\n",
              "            background-color:  #4b64d5;\n",
              "            color:  #f1f1f1;\n",
              "        }#T_b25e81bc_92a9_11eb_897c_0242ac1c0002row13_col9{\n",
              "            background-color:  #6485ec;\n",
              "            color:  #000000;\n",
              "        }#T_b25e81bc_92a9_11eb_897c_0242ac1c0002row13_col11,#T_b25e81bc_92a9_11eb_897c_0242ac1c0002row14_col6{\n",
              "            background-color:  #688aef;\n",
              "            color:  #000000;\n",
              "        }#T_b25e81bc_92a9_11eb_897c_0242ac1c0002row14_col0{\n",
              "            background-color:  #90b2fe;\n",
              "            color:  #000000;\n",
              "        }#T_b25e81bc_92a9_11eb_897c_0242ac1c0002row15_col0{\n",
              "            background-color:  #aec9fc;\n",
              "            color:  #000000;\n",
              "        }#T_b25e81bc_92a9_11eb_897c_0242ac1c0002row15_col5{\n",
              "            background-color:  #a6c4fe;\n",
              "            color:  #000000;\n",
              "        }</style><table id=\"T_b25e81bc_92a9_11eb_897c_0242ac1c0002\" ><thead>    <tr>        <th class=\"blank level0\" ></th>        <th class=\"col_heading level0 col0\" >Administrative</th>        <th class=\"col_heading level0 col1\" >Administrative_Duration</th>        <th class=\"col_heading level0 col2\" >Informational</th>        <th class=\"col_heading level0 col3\" >Informational_Duration</th>        <th class=\"col_heading level0 col4\" >ProductRelated</th>        <th class=\"col_heading level0 col5\" >ProductRelated_Duration</th>        <th class=\"col_heading level0 col6\" >BounceRates</th>        <th class=\"col_heading level0 col7\" >ExitRates</th>        <th class=\"col_heading level0 col8\" >PageValues</th>        <th class=\"col_heading level0 col9\" >SpecialDay</th>        <th class=\"col_heading level0 col10\" >OperatingSystems</th>        <th class=\"col_heading level0 col11\" >Browser</th>        <th class=\"col_heading level0 col12\" >Region</th>        <th class=\"col_heading level0 col13\" >TrafficType</th>        <th class=\"col_heading level0 col14\" >Weekend</th>        <th class=\"col_heading level0 col15\" >Revenue</th>    </tr></thead><tbody>\n",
              "                <tr>\n",
              "                        <th id=\"T_b25e81bc_92a9_11eb_897c_0242ac1c0002level0_row0\" class=\"row_heading level0 row0\" >Administrative</th>\n",
              "                        <td id=\"T_b25e81bc_92a9_11eb_897c_0242ac1c0002row0_col0\" class=\"data row0 col0\" >1.000000</td>\n",
              "                        <td id=\"T_b25e81bc_92a9_11eb_897c_0242ac1c0002row0_col1\" class=\"data row0 col1\" >0.601583</td>\n",
              "                        <td id=\"T_b25e81bc_92a9_11eb_897c_0242ac1c0002row0_col2\" class=\"data row0 col2\" >0.376850</td>\n",
              "                        <td id=\"T_b25e81bc_92a9_11eb_897c_0242ac1c0002row0_col3\" class=\"data row0 col3\" >0.255848</td>\n",
              "                        <td id=\"T_b25e81bc_92a9_11eb_897c_0242ac1c0002row0_col4\" class=\"data row0 col4\" >0.431119</td>\n",
              "                        <td id=\"T_b25e81bc_92a9_11eb_897c_0242ac1c0002row0_col5\" class=\"data row0 col5\" >0.373939</td>\n",
              "                        <td id=\"T_b25e81bc_92a9_11eb_897c_0242ac1c0002row0_col6\" class=\"data row0 col6\" >-0.223563</td>\n",
              "                        <td id=\"T_b25e81bc_92a9_11eb_897c_0242ac1c0002row0_col7\" class=\"data row0 col7\" >-0.316483</td>\n",
              "                        <td id=\"T_b25e81bc_92a9_11eb_897c_0242ac1c0002row0_col8\" class=\"data row0 col8\" >0.098990</td>\n",
              "                        <td id=\"T_b25e81bc_92a9_11eb_897c_0242ac1c0002row0_col9\" class=\"data row0 col9\" >-0.094778</td>\n",
              "                        <td id=\"T_b25e81bc_92a9_11eb_897c_0242ac1c0002row0_col10\" class=\"data row0 col10\" >-0.006347</td>\n",
              "                        <td id=\"T_b25e81bc_92a9_11eb_897c_0242ac1c0002row0_col11\" class=\"data row0 col11\" >-0.025035</td>\n",
              "                        <td id=\"T_b25e81bc_92a9_11eb_897c_0242ac1c0002row0_col12\" class=\"data row0 col12\" >-0.005487</td>\n",
              "                        <td id=\"T_b25e81bc_92a9_11eb_897c_0242ac1c0002row0_col13\" class=\"data row0 col13\" >-0.033561</td>\n",
              "                        <td id=\"T_b25e81bc_92a9_11eb_897c_0242ac1c0002row0_col14\" class=\"data row0 col14\" >0.026417</td>\n",
              "                        <td id=\"T_b25e81bc_92a9_11eb_897c_0242ac1c0002row0_col15\" class=\"data row0 col15\" >0.138917</td>\n",
              "            </tr>\n",
              "            <tr>\n",
              "                        <th id=\"T_b25e81bc_92a9_11eb_897c_0242ac1c0002level0_row1\" class=\"row_heading level0 row1\" >Administrative_Duration</th>\n",
              "                        <td id=\"T_b25e81bc_92a9_11eb_897c_0242ac1c0002row1_col0\" class=\"data row1 col0\" >0.601583</td>\n",
              "                        <td id=\"T_b25e81bc_92a9_11eb_897c_0242ac1c0002row1_col1\" class=\"data row1 col1\" >1.000000</td>\n",
              "                        <td id=\"T_b25e81bc_92a9_11eb_897c_0242ac1c0002row1_col2\" class=\"data row1 col2\" >0.302710</td>\n",
              "                        <td id=\"T_b25e81bc_92a9_11eb_897c_0242ac1c0002row1_col3\" class=\"data row1 col3\" >0.238031</td>\n",
              "                        <td id=\"T_b25e81bc_92a9_11eb_897c_0242ac1c0002row1_col4\" class=\"data row1 col4\" >0.289087</td>\n",
              "                        <td id=\"T_b25e81bc_92a9_11eb_897c_0242ac1c0002row1_col5\" class=\"data row1 col5\" >0.355422</td>\n",
              "                        <td id=\"T_b25e81bc_92a9_11eb_897c_0242ac1c0002row1_col6\" class=\"data row1 col6\" >-0.144170</td>\n",
              "                        <td id=\"T_b25e81bc_92a9_11eb_897c_0242ac1c0002row1_col7\" class=\"data row1 col7\" >-0.205798</td>\n",
              "                        <td id=\"T_b25e81bc_92a9_11eb_897c_0242ac1c0002row1_col8\" class=\"data row1 col8\" >0.067608</td>\n",
              "                        <td id=\"T_b25e81bc_92a9_11eb_897c_0242ac1c0002row1_col9\" class=\"data row1 col9\" >-0.073304</td>\n",
              "                        <td id=\"T_b25e81bc_92a9_11eb_897c_0242ac1c0002row1_col10\" class=\"data row1 col10\" >-0.007343</td>\n",
              "                        <td id=\"T_b25e81bc_92a9_11eb_897c_0242ac1c0002row1_col11\" class=\"data row1 col11\" >-0.015392</td>\n",
              "                        <td id=\"T_b25e81bc_92a9_11eb_897c_0242ac1c0002row1_col12\" class=\"data row1 col12\" >-0.005561</td>\n",
              "                        <td id=\"T_b25e81bc_92a9_11eb_897c_0242ac1c0002row1_col13\" class=\"data row1 col13\" >-0.014376</td>\n",
              "                        <td id=\"T_b25e81bc_92a9_11eb_897c_0242ac1c0002row1_col14\" class=\"data row1 col14\" >0.014990</td>\n",
              "                        <td id=\"T_b25e81bc_92a9_11eb_897c_0242ac1c0002row1_col15\" class=\"data row1 col15\" >0.093587</td>\n",
              "            </tr>\n",
              "            <tr>\n",
              "                        <th id=\"T_b25e81bc_92a9_11eb_897c_0242ac1c0002level0_row2\" class=\"row_heading level0 row2\" >Informational</th>\n",
              "                        <td id=\"T_b25e81bc_92a9_11eb_897c_0242ac1c0002row2_col0\" class=\"data row2 col0\" >0.376850</td>\n",
              "                        <td id=\"T_b25e81bc_92a9_11eb_897c_0242ac1c0002row2_col1\" class=\"data row2 col1\" >0.302710</td>\n",
              "                        <td id=\"T_b25e81bc_92a9_11eb_897c_0242ac1c0002row2_col2\" class=\"data row2 col2\" >1.000000</td>\n",
              "                        <td id=\"T_b25e81bc_92a9_11eb_897c_0242ac1c0002row2_col3\" class=\"data row2 col3\" >0.618955</td>\n",
              "                        <td id=\"T_b25e81bc_92a9_11eb_897c_0242ac1c0002row2_col4\" class=\"data row2 col4\" >0.374164</td>\n",
              "                        <td id=\"T_b25e81bc_92a9_11eb_897c_0242ac1c0002row2_col5\" class=\"data row2 col5\" >0.387505</td>\n",
              "                        <td id=\"T_b25e81bc_92a9_11eb_897c_0242ac1c0002row2_col6\" class=\"data row2 col6\" >-0.116114</td>\n",
              "                        <td id=\"T_b25e81bc_92a9_11eb_897c_0242ac1c0002row2_col7\" class=\"data row2 col7\" >-0.163666</td>\n",
              "                        <td id=\"T_b25e81bc_92a9_11eb_897c_0242ac1c0002row2_col8\" class=\"data row2 col8\" >0.048632</td>\n",
              "                        <td id=\"T_b25e81bc_92a9_11eb_897c_0242ac1c0002row2_col9\" class=\"data row2 col9\" >-0.048219</td>\n",
              "                        <td id=\"T_b25e81bc_92a9_11eb_897c_0242ac1c0002row2_col10\" class=\"data row2 col10\" >-0.009527</td>\n",
              "                        <td id=\"T_b25e81bc_92a9_11eb_897c_0242ac1c0002row2_col11\" class=\"data row2 col11\" >-0.038235</td>\n",
              "                        <td id=\"T_b25e81bc_92a9_11eb_897c_0242ac1c0002row2_col12\" class=\"data row2 col12\" >-0.029169</td>\n",
              "                        <td id=\"T_b25e81bc_92a9_11eb_897c_0242ac1c0002row2_col13\" class=\"data row2 col13\" >-0.034491</td>\n",
              "                        <td id=\"T_b25e81bc_92a9_11eb_897c_0242ac1c0002row2_col14\" class=\"data row2 col14\" >0.035785</td>\n",
              "                        <td id=\"T_b25e81bc_92a9_11eb_897c_0242ac1c0002row2_col15\" class=\"data row2 col15\" >0.095200</td>\n",
              "            </tr>\n",
              "            <tr>\n",
              "                        <th id=\"T_b25e81bc_92a9_11eb_897c_0242ac1c0002level0_row3\" class=\"row_heading level0 row3\" >Informational_Duration</th>\n",
              "                        <td id=\"T_b25e81bc_92a9_11eb_897c_0242ac1c0002row3_col0\" class=\"data row3 col0\" >0.255848</td>\n",
              "                        <td id=\"T_b25e81bc_92a9_11eb_897c_0242ac1c0002row3_col1\" class=\"data row3 col1\" >0.238031</td>\n",
              "                        <td id=\"T_b25e81bc_92a9_11eb_897c_0242ac1c0002row3_col2\" class=\"data row3 col2\" >0.618955</td>\n",
              "                        <td id=\"T_b25e81bc_92a9_11eb_897c_0242ac1c0002row3_col3\" class=\"data row3 col3\" >1.000000</td>\n",
              "                        <td id=\"T_b25e81bc_92a9_11eb_897c_0242ac1c0002row3_col4\" class=\"data row3 col4\" >0.280046</td>\n",
              "                        <td id=\"T_b25e81bc_92a9_11eb_897c_0242ac1c0002row3_col5\" class=\"data row3 col5\" >0.347364</td>\n",
              "                        <td id=\"T_b25e81bc_92a9_11eb_897c_0242ac1c0002row3_col6\" class=\"data row3 col6\" >-0.074067</td>\n",
              "                        <td id=\"T_b25e81bc_92a9_11eb_897c_0242ac1c0002row3_col7\" class=\"data row3 col7\" >-0.105276</td>\n",
              "                        <td id=\"T_b25e81bc_92a9_11eb_897c_0242ac1c0002row3_col8\" class=\"data row3 col8\" >0.030861</td>\n",
              "                        <td id=\"T_b25e81bc_92a9_11eb_897c_0242ac1c0002row3_col9\" class=\"data row3 col9\" >-0.030577</td>\n",
              "                        <td id=\"T_b25e81bc_92a9_11eb_897c_0242ac1c0002row3_col10\" class=\"data row3 col10\" >-0.009579</td>\n",
              "                        <td id=\"T_b25e81bc_92a9_11eb_897c_0242ac1c0002row3_col11\" class=\"data row3 col11\" >-0.019285</td>\n",
              "                        <td id=\"T_b25e81bc_92a9_11eb_897c_0242ac1c0002row3_col12\" class=\"data row3 col12\" >-0.027144</td>\n",
              "                        <td id=\"T_b25e81bc_92a9_11eb_897c_0242ac1c0002row3_col13\" class=\"data row3 col13\" >-0.024675</td>\n",
              "                        <td id=\"T_b25e81bc_92a9_11eb_897c_0242ac1c0002row3_col14\" class=\"data row3 col14\" >0.024078</td>\n",
              "                        <td id=\"T_b25e81bc_92a9_11eb_897c_0242ac1c0002row3_col15\" class=\"data row3 col15\" >0.070345</td>\n",
              "            </tr>\n",
              "            <tr>\n",
              "                        <th id=\"T_b25e81bc_92a9_11eb_897c_0242ac1c0002level0_row4\" class=\"row_heading level0 row4\" >ProductRelated</th>\n",
              "                        <td id=\"T_b25e81bc_92a9_11eb_897c_0242ac1c0002row4_col0\" class=\"data row4 col0\" >0.431119</td>\n",
              "                        <td id=\"T_b25e81bc_92a9_11eb_897c_0242ac1c0002row4_col1\" class=\"data row4 col1\" >0.289087</td>\n",
              "                        <td id=\"T_b25e81bc_92a9_11eb_897c_0242ac1c0002row4_col2\" class=\"data row4 col2\" >0.374164</td>\n",
              "                        <td id=\"T_b25e81bc_92a9_11eb_897c_0242ac1c0002row4_col3\" class=\"data row4 col3\" >0.280046</td>\n",
              "                        <td id=\"T_b25e81bc_92a9_11eb_897c_0242ac1c0002row4_col4\" class=\"data row4 col4\" >1.000000</td>\n",
              "                        <td id=\"T_b25e81bc_92a9_11eb_897c_0242ac1c0002row4_col5\" class=\"data row4 col5\" >0.860927</td>\n",
              "                        <td id=\"T_b25e81bc_92a9_11eb_897c_0242ac1c0002row4_col6\" class=\"data row4 col6\" >-0.204578</td>\n",
              "                        <td id=\"T_b25e81bc_92a9_11eb_897c_0242ac1c0002row4_col7\" class=\"data row4 col7\" >-0.292526</td>\n",
              "                        <td id=\"T_b25e81bc_92a9_11eb_897c_0242ac1c0002row4_col8\" class=\"data row4 col8\" >0.056282</td>\n",
              "                        <td id=\"T_b25e81bc_92a9_11eb_897c_0242ac1c0002row4_col9\" class=\"data row4 col9\" >-0.023958</td>\n",
              "                        <td id=\"T_b25e81bc_92a9_11eb_897c_0242ac1c0002row4_col10\" class=\"data row4 col10\" >0.004290</td>\n",
              "                        <td id=\"T_b25e81bc_92a9_11eb_897c_0242ac1c0002row4_col11\" class=\"data row4 col11\" >-0.013146</td>\n",
              "                        <td id=\"T_b25e81bc_92a9_11eb_897c_0242ac1c0002row4_col12\" class=\"data row4 col12\" >-0.038122</td>\n",
              "                        <td id=\"T_b25e81bc_92a9_11eb_897c_0242ac1c0002row4_col13\" class=\"data row4 col13\" >-0.043064</td>\n",
              "                        <td id=\"T_b25e81bc_92a9_11eb_897c_0242ac1c0002row4_col14\" class=\"data row4 col14\" >0.016092</td>\n",
              "                        <td id=\"T_b25e81bc_92a9_11eb_897c_0242ac1c0002row4_col15\" class=\"data row4 col15\" >0.158538</td>\n",
              "            </tr>\n",
              "            <tr>\n",
              "                        <th id=\"T_b25e81bc_92a9_11eb_897c_0242ac1c0002level0_row5\" class=\"row_heading level0 row5\" >ProductRelated_Duration</th>\n",
              "                        <td id=\"T_b25e81bc_92a9_11eb_897c_0242ac1c0002row5_col0\" class=\"data row5 col0\" >0.373939</td>\n",
              "                        <td id=\"T_b25e81bc_92a9_11eb_897c_0242ac1c0002row5_col1\" class=\"data row5 col1\" >0.355422</td>\n",
              "                        <td id=\"T_b25e81bc_92a9_11eb_897c_0242ac1c0002row5_col2\" class=\"data row5 col2\" >0.387505</td>\n",
              "                        <td id=\"T_b25e81bc_92a9_11eb_897c_0242ac1c0002row5_col3\" class=\"data row5 col3\" >0.347364</td>\n",
              "                        <td id=\"T_b25e81bc_92a9_11eb_897c_0242ac1c0002row5_col4\" class=\"data row5 col4\" >0.860927</td>\n",
              "                        <td id=\"T_b25e81bc_92a9_11eb_897c_0242ac1c0002row5_col5\" class=\"data row5 col5\" >1.000000</td>\n",
              "                        <td id=\"T_b25e81bc_92a9_11eb_897c_0242ac1c0002row5_col6\" class=\"data row5 col6\" >-0.184541</td>\n",
              "                        <td id=\"T_b25e81bc_92a9_11eb_897c_0242ac1c0002row5_col7\" class=\"data row5 col7\" >-0.251984</td>\n",
              "                        <td id=\"T_b25e81bc_92a9_11eb_897c_0242ac1c0002row5_col8\" class=\"data row5 col8\" >0.052823</td>\n",
              "                        <td id=\"T_b25e81bc_92a9_11eb_897c_0242ac1c0002row5_col9\" class=\"data row5 col9\" >-0.036380</td>\n",
              "                        <td id=\"T_b25e81bc_92a9_11eb_897c_0242ac1c0002row5_col10\" class=\"data row5 col10\" >0.002976</td>\n",
              "                        <td id=\"T_b25e81bc_92a9_11eb_897c_0242ac1c0002row5_col11\" class=\"data row5 col11\" >-0.007380</td>\n",
              "                        <td id=\"T_b25e81bc_92a9_11eb_897c_0242ac1c0002row5_col12\" class=\"data row5 col12\" >-0.033091</td>\n",
              "                        <td id=\"T_b25e81bc_92a9_11eb_897c_0242ac1c0002row5_col13\" class=\"data row5 col13\" >-0.036377</td>\n",
              "                        <td id=\"T_b25e81bc_92a9_11eb_897c_0242ac1c0002row5_col14\" class=\"data row5 col14\" >0.007311</td>\n",
              "                        <td id=\"T_b25e81bc_92a9_11eb_897c_0242ac1c0002row5_col15\" class=\"data row5 col15\" >0.152373</td>\n",
              "            </tr>\n",
              "            <tr>\n",
              "                        <th id=\"T_b25e81bc_92a9_11eb_897c_0242ac1c0002level0_row6\" class=\"row_heading level0 row6\" >BounceRates</th>\n",
              "                        <td id=\"T_b25e81bc_92a9_11eb_897c_0242ac1c0002row6_col0\" class=\"data row6 col0\" >-0.223563</td>\n",
              "                        <td id=\"T_b25e81bc_92a9_11eb_897c_0242ac1c0002row6_col1\" class=\"data row6 col1\" >-0.144170</td>\n",
              "                        <td id=\"T_b25e81bc_92a9_11eb_897c_0242ac1c0002row6_col2\" class=\"data row6 col2\" >-0.116114</td>\n",
              "                        <td id=\"T_b25e81bc_92a9_11eb_897c_0242ac1c0002row6_col3\" class=\"data row6 col3\" >-0.074067</td>\n",
              "                        <td id=\"T_b25e81bc_92a9_11eb_897c_0242ac1c0002row6_col4\" class=\"data row6 col4\" >-0.204578</td>\n",
              "                        <td id=\"T_b25e81bc_92a9_11eb_897c_0242ac1c0002row6_col5\" class=\"data row6 col5\" >-0.184541</td>\n",
              "                        <td id=\"T_b25e81bc_92a9_11eb_897c_0242ac1c0002row6_col6\" class=\"data row6 col6\" >1.000000</td>\n",
              "                        <td id=\"T_b25e81bc_92a9_11eb_897c_0242ac1c0002row6_col7\" class=\"data row6 col7\" >0.913004</td>\n",
              "                        <td id=\"T_b25e81bc_92a9_11eb_897c_0242ac1c0002row6_col8\" class=\"data row6 col8\" >-0.119386</td>\n",
              "                        <td id=\"T_b25e81bc_92a9_11eb_897c_0242ac1c0002row6_col9\" class=\"data row6 col9\" >0.072702</td>\n",
              "                        <td id=\"T_b25e81bc_92a9_11eb_897c_0242ac1c0002row6_col10\" class=\"data row6 col10\" >0.023823</td>\n",
              "                        <td id=\"T_b25e81bc_92a9_11eb_897c_0242ac1c0002row6_col11\" class=\"data row6 col11\" >-0.015772</td>\n",
              "                        <td id=\"T_b25e81bc_92a9_11eb_897c_0242ac1c0002row6_col12\" class=\"data row6 col12\" >-0.006485</td>\n",
              "                        <td id=\"T_b25e81bc_92a9_11eb_897c_0242ac1c0002row6_col13\" class=\"data row6 col13\" >0.078286</td>\n",
              "                        <td id=\"T_b25e81bc_92a9_11eb_897c_0242ac1c0002row6_col14\" class=\"data row6 col14\" >-0.046514</td>\n",
              "                        <td id=\"T_b25e81bc_92a9_11eb_897c_0242ac1c0002row6_col15\" class=\"data row6 col15\" >-0.150673</td>\n",
              "            </tr>\n",
              "            <tr>\n",
              "                        <th id=\"T_b25e81bc_92a9_11eb_897c_0242ac1c0002level0_row7\" class=\"row_heading level0 row7\" >ExitRates</th>\n",
              "                        <td id=\"T_b25e81bc_92a9_11eb_897c_0242ac1c0002row7_col0\" class=\"data row7 col0\" >-0.316483</td>\n",
              "                        <td id=\"T_b25e81bc_92a9_11eb_897c_0242ac1c0002row7_col1\" class=\"data row7 col1\" >-0.205798</td>\n",
              "                        <td id=\"T_b25e81bc_92a9_11eb_897c_0242ac1c0002row7_col2\" class=\"data row7 col2\" >-0.163666</td>\n",
              "                        <td id=\"T_b25e81bc_92a9_11eb_897c_0242ac1c0002row7_col3\" class=\"data row7 col3\" >-0.105276</td>\n",
              "                        <td id=\"T_b25e81bc_92a9_11eb_897c_0242ac1c0002row7_col4\" class=\"data row7 col4\" >-0.292526</td>\n",
              "                        <td id=\"T_b25e81bc_92a9_11eb_897c_0242ac1c0002row7_col5\" class=\"data row7 col5\" >-0.251984</td>\n",
              "                        <td id=\"T_b25e81bc_92a9_11eb_897c_0242ac1c0002row7_col6\" class=\"data row7 col6\" >0.913004</td>\n",
              "                        <td id=\"T_b25e81bc_92a9_11eb_897c_0242ac1c0002row7_col7\" class=\"data row7 col7\" >1.000000</td>\n",
              "                        <td id=\"T_b25e81bc_92a9_11eb_897c_0242ac1c0002row7_col8\" class=\"data row7 col8\" >-0.174498</td>\n",
              "                        <td id=\"T_b25e81bc_92a9_11eb_897c_0242ac1c0002row7_col9\" class=\"data row7 col9\" >0.102242</td>\n",
              "                        <td id=\"T_b25e81bc_92a9_11eb_897c_0242ac1c0002row7_col10\" class=\"data row7 col10\" >0.014567</td>\n",
              "                        <td id=\"T_b25e81bc_92a9_11eb_897c_0242ac1c0002row7_col11\" class=\"data row7 col11\" >-0.004442</td>\n",
              "                        <td id=\"T_b25e81bc_92a9_11eb_897c_0242ac1c0002row7_col12\" class=\"data row7 col12\" >-0.008907</td>\n",
              "                        <td id=\"T_b25e81bc_92a9_11eb_897c_0242ac1c0002row7_col13\" class=\"data row7 col13\" >0.078616</td>\n",
              "                        <td id=\"T_b25e81bc_92a9_11eb_897c_0242ac1c0002row7_col14\" class=\"data row7 col14\" >-0.062587</td>\n",
              "                        <td id=\"T_b25e81bc_92a9_11eb_897c_0242ac1c0002row7_col15\" class=\"data row7 col15\" >-0.207071</td>\n",
              "            </tr>\n",
              "            <tr>\n",
              "                        <th id=\"T_b25e81bc_92a9_11eb_897c_0242ac1c0002level0_row8\" class=\"row_heading level0 row8\" >PageValues</th>\n",
              "                        <td id=\"T_b25e81bc_92a9_11eb_897c_0242ac1c0002row8_col0\" class=\"data row8 col0\" >0.098990</td>\n",
              "                        <td id=\"T_b25e81bc_92a9_11eb_897c_0242ac1c0002row8_col1\" class=\"data row8 col1\" >0.067608</td>\n",
              "                        <td id=\"T_b25e81bc_92a9_11eb_897c_0242ac1c0002row8_col2\" class=\"data row8 col2\" >0.048632</td>\n",
              "                        <td id=\"T_b25e81bc_92a9_11eb_897c_0242ac1c0002row8_col3\" class=\"data row8 col3\" >0.030861</td>\n",
              "                        <td id=\"T_b25e81bc_92a9_11eb_897c_0242ac1c0002row8_col4\" class=\"data row8 col4\" >0.056282</td>\n",
              "                        <td id=\"T_b25e81bc_92a9_11eb_897c_0242ac1c0002row8_col5\" class=\"data row8 col5\" >0.052823</td>\n",
              "                        <td id=\"T_b25e81bc_92a9_11eb_897c_0242ac1c0002row8_col6\" class=\"data row8 col6\" >-0.119386</td>\n",
              "                        <td id=\"T_b25e81bc_92a9_11eb_897c_0242ac1c0002row8_col7\" class=\"data row8 col7\" >-0.174498</td>\n",
              "                        <td id=\"T_b25e81bc_92a9_11eb_897c_0242ac1c0002row8_col8\" class=\"data row8 col8\" >1.000000</td>\n",
              "                        <td id=\"T_b25e81bc_92a9_11eb_897c_0242ac1c0002row8_col9\" class=\"data row8 col9\" >-0.063541</td>\n",
              "                        <td id=\"T_b25e81bc_92a9_11eb_897c_0242ac1c0002row8_col10\" class=\"data row8 col10\" >0.018508</td>\n",
              "                        <td id=\"T_b25e81bc_92a9_11eb_897c_0242ac1c0002row8_col11\" class=\"data row8 col11\" >0.045592</td>\n",
              "                        <td id=\"T_b25e81bc_92a9_11eb_897c_0242ac1c0002row8_col12\" class=\"data row8 col12\" >0.011315</td>\n",
              "                        <td id=\"T_b25e81bc_92a9_11eb_897c_0242ac1c0002row8_col13\" class=\"data row8 col13\" >0.012532</td>\n",
              "                        <td id=\"T_b25e81bc_92a9_11eb_897c_0242ac1c0002row8_col14\" class=\"data row8 col14\" >0.012002</td>\n",
              "                        <td id=\"T_b25e81bc_92a9_11eb_897c_0242ac1c0002row8_col15\" class=\"data row8 col15\" >0.492569</td>\n",
              "            </tr>\n",
              "            <tr>\n",
              "                        <th id=\"T_b25e81bc_92a9_11eb_897c_0242ac1c0002level0_row9\" class=\"row_heading level0 row9\" >SpecialDay</th>\n",
              "                        <td id=\"T_b25e81bc_92a9_11eb_897c_0242ac1c0002row9_col0\" class=\"data row9 col0\" >-0.094778</td>\n",
              "                        <td id=\"T_b25e81bc_92a9_11eb_897c_0242ac1c0002row9_col1\" class=\"data row9 col1\" >-0.073304</td>\n",
              "                        <td id=\"T_b25e81bc_92a9_11eb_897c_0242ac1c0002row9_col2\" class=\"data row9 col2\" >-0.048219</td>\n",
              "                        <td id=\"T_b25e81bc_92a9_11eb_897c_0242ac1c0002row9_col3\" class=\"data row9 col3\" >-0.030577</td>\n",
              "                        <td id=\"T_b25e81bc_92a9_11eb_897c_0242ac1c0002row9_col4\" class=\"data row9 col4\" >-0.023958</td>\n",
              "                        <td id=\"T_b25e81bc_92a9_11eb_897c_0242ac1c0002row9_col5\" class=\"data row9 col5\" >-0.036380</td>\n",
              "                        <td id=\"T_b25e81bc_92a9_11eb_897c_0242ac1c0002row9_col6\" class=\"data row9 col6\" >0.072702</td>\n",
              "                        <td id=\"T_b25e81bc_92a9_11eb_897c_0242ac1c0002row9_col7\" class=\"data row9 col7\" >0.102242</td>\n",
              "                        <td id=\"T_b25e81bc_92a9_11eb_897c_0242ac1c0002row9_col8\" class=\"data row9 col8\" >-0.063541</td>\n",
              "                        <td id=\"T_b25e81bc_92a9_11eb_897c_0242ac1c0002row9_col9\" class=\"data row9 col9\" >1.000000</td>\n",
              "                        <td id=\"T_b25e81bc_92a9_11eb_897c_0242ac1c0002row9_col10\" class=\"data row9 col10\" >0.012652</td>\n",
              "                        <td id=\"T_b25e81bc_92a9_11eb_897c_0242ac1c0002row9_col11\" class=\"data row9 col11\" >0.003499</td>\n",
              "                        <td id=\"T_b25e81bc_92a9_11eb_897c_0242ac1c0002row9_col12\" class=\"data row9 col12\" >-0.016098</td>\n",
              "                        <td id=\"T_b25e81bc_92a9_11eb_897c_0242ac1c0002row9_col13\" class=\"data row9 col13\" >0.052301</td>\n",
              "                        <td id=\"T_b25e81bc_92a9_11eb_897c_0242ac1c0002row9_col14\" class=\"data row9 col14\" >-0.016767</td>\n",
              "                        <td id=\"T_b25e81bc_92a9_11eb_897c_0242ac1c0002row9_col15\" class=\"data row9 col15\" >-0.082305</td>\n",
              "            </tr>\n",
              "            <tr>\n",
              "                        <th id=\"T_b25e81bc_92a9_11eb_897c_0242ac1c0002level0_row10\" class=\"row_heading level0 row10\" >OperatingSystems</th>\n",
              "                        <td id=\"T_b25e81bc_92a9_11eb_897c_0242ac1c0002row10_col0\" class=\"data row10 col0\" >-0.006347</td>\n",
              "                        <td id=\"T_b25e81bc_92a9_11eb_897c_0242ac1c0002row10_col1\" class=\"data row10 col1\" >-0.007343</td>\n",
              "                        <td id=\"T_b25e81bc_92a9_11eb_897c_0242ac1c0002row10_col2\" class=\"data row10 col2\" >-0.009527</td>\n",
              "                        <td id=\"T_b25e81bc_92a9_11eb_897c_0242ac1c0002row10_col3\" class=\"data row10 col3\" >-0.009579</td>\n",
              "                        <td id=\"T_b25e81bc_92a9_11eb_897c_0242ac1c0002row10_col4\" class=\"data row10 col4\" >0.004290</td>\n",
              "                        <td id=\"T_b25e81bc_92a9_11eb_897c_0242ac1c0002row10_col5\" class=\"data row10 col5\" >0.002976</td>\n",
              "                        <td id=\"T_b25e81bc_92a9_11eb_897c_0242ac1c0002row10_col6\" class=\"data row10 col6\" >0.023823</td>\n",
              "                        <td id=\"T_b25e81bc_92a9_11eb_897c_0242ac1c0002row10_col7\" class=\"data row10 col7\" >0.014567</td>\n",
              "                        <td id=\"T_b25e81bc_92a9_11eb_897c_0242ac1c0002row10_col8\" class=\"data row10 col8\" >0.018508</td>\n",
              "                        <td id=\"T_b25e81bc_92a9_11eb_897c_0242ac1c0002row10_col9\" class=\"data row10 col9\" >0.012652</td>\n",
              "                        <td id=\"T_b25e81bc_92a9_11eb_897c_0242ac1c0002row10_col10\" class=\"data row10 col10\" >1.000000</td>\n",
              "                        <td id=\"T_b25e81bc_92a9_11eb_897c_0242ac1c0002row10_col11\" class=\"data row10 col11\" >0.223013</td>\n",
              "                        <td id=\"T_b25e81bc_92a9_11eb_897c_0242ac1c0002row10_col12\" class=\"data row10 col12\" >0.076775</td>\n",
              "                        <td id=\"T_b25e81bc_92a9_11eb_897c_0242ac1c0002row10_col13\" class=\"data row10 col13\" >0.189154</td>\n",
              "                        <td id=\"T_b25e81bc_92a9_11eb_897c_0242ac1c0002row10_col14\" class=\"data row10 col14\" >0.000284</td>\n",
              "                        <td id=\"T_b25e81bc_92a9_11eb_897c_0242ac1c0002row10_col15\" class=\"data row10 col15\" >-0.014668</td>\n",
              "            </tr>\n",
              "            <tr>\n",
              "                        <th id=\"T_b25e81bc_92a9_11eb_897c_0242ac1c0002level0_row11\" class=\"row_heading level0 row11\" >Browser</th>\n",
              "                        <td id=\"T_b25e81bc_92a9_11eb_897c_0242ac1c0002row11_col0\" class=\"data row11 col0\" >-0.025035</td>\n",
              "                        <td id=\"T_b25e81bc_92a9_11eb_897c_0242ac1c0002row11_col1\" class=\"data row11 col1\" >-0.015392</td>\n",
              "                        <td id=\"T_b25e81bc_92a9_11eb_897c_0242ac1c0002row11_col2\" class=\"data row11 col2\" >-0.038235</td>\n",
              "                        <td id=\"T_b25e81bc_92a9_11eb_897c_0242ac1c0002row11_col3\" class=\"data row11 col3\" >-0.019285</td>\n",
              "                        <td id=\"T_b25e81bc_92a9_11eb_897c_0242ac1c0002row11_col4\" class=\"data row11 col4\" >-0.013146</td>\n",
              "                        <td id=\"T_b25e81bc_92a9_11eb_897c_0242ac1c0002row11_col5\" class=\"data row11 col5\" >-0.007380</td>\n",
              "                        <td id=\"T_b25e81bc_92a9_11eb_897c_0242ac1c0002row11_col6\" class=\"data row11 col6\" >-0.015772</td>\n",
              "                        <td id=\"T_b25e81bc_92a9_11eb_897c_0242ac1c0002row11_col7\" class=\"data row11 col7\" >-0.004442</td>\n",
              "                        <td id=\"T_b25e81bc_92a9_11eb_897c_0242ac1c0002row11_col8\" class=\"data row11 col8\" >0.045592</td>\n",
              "                        <td id=\"T_b25e81bc_92a9_11eb_897c_0242ac1c0002row11_col9\" class=\"data row11 col9\" >0.003499</td>\n",
              "                        <td id=\"T_b25e81bc_92a9_11eb_897c_0242ac1c0002row11_col10\" class=\"data row11 col10\" >0.223013</td>\n",
              "                        <td id=\"T_b25e81bc_92a9_11eb_897c_0242ac1c0002row11_col11\" class=\"data row11 col11\" >1.000000</td>\n",
              "                        <td id=\"T_b25e81bc_92a9_11eb_897c_0242ac1c0002row11_col12\" class=\"data row11 col12\" >0.097393</td>\n",
              "                        <td id=\"T_b25e81bc_92a9_11eb_897c_0242ac1c0002row11_col13\" class=\"data row11 col13\" >0.111938</td>\n",
              "                        <td id=\"T_b25e81bc_92a9_11eb_897c_0242ac1c0002row11_col14\" class=\"data row11 col14\" >-0.040261</td>\n",
              "                        <td id=\"T_b25e81bc_92a9_11eb_897c_0242ac1c0002row11_col15\" class=\"data row11 col15\" >0.023984</td>\n",
              "            </tr>\n",
              "            <tr>\n",
              "                        <th id=\"T_b25e81bc_92a9_11eb_897c_0242ac1c0002level0_row12\" class=\"row_heading level0 row12\" >Region</th>\n",
              "                        <td id=\"T_b25e81bc_92a9_11eb_897c_0242ac1c0002row12_col0\" class=\"data row12 col0\" >-0.005487</td>\n",
              "                        <td id=\"T_b25e81bc_92a9_11eb_897c_0242ac1c0002row12_col1\" class=\"data row12 col1\" >-0.005561</td>\n",
              "                        <td id=\"T_b25e81bc_92a9_11eb_897c_0242ac1c0002row12_col2\" class=\"data row12 col2\" >-0.029169</td>\n",
              "                        <td id=\"T_b25e81bc_92a9_11eb_897c_0242ac1c0002row12_col3\" class=\"data row12 col3\" >-0.027144</td>\n",
              "                        <td id=\"T_b25e81bc_92a9_11eb_897c_0242ac1c0002row12_col4\" class=\"data row12 col4\" >-0.038122</td>\n",
              "                        <td id=\"T_b25e81bc_92a9_11eb_897c_0242ac1c0002row12_col5\" class=\"data row12 col5\" >-0.033091</td>\n",
              "                        <td id=\"T_b25e81bc_92a9_11eb_897c_0242ac1c0002row12_col6\" class=\"data row12 col6\" >-0.006485</td>\n",
              "                        <td id=\"T_b25e81bc_92a9_11eb_897c_0242ac1c0002row12_col7\" class=\"data row12 col7\" >-0.008907</td>\n",
              "                        <td id=\"T_b25e81bc_92a9_11eb_897c_0242ac1c0002row12_col8\" class=\"data row12 col8\" >0.011315</td>\n",
              "                        <td id=\"T_b25e81bc_92a9_11eb_897c_0242ac1c0002row12_col9\" class=\"data row12 col9\" >-0.016098</td>\n",
              "                        <td id=\"T_b25e81bc_92a9_11eb_897c_0242ac1c0002row12_col10\" class=\"data row12 col10\" >0.076775</td>\n",
              "                        <td id=\"T_b25e81bc_92a9_11eb_897c_0242ac1c0002row12_col11\" class=\"data row12 col11\" >0.097393</td>\n",
              "                        <td id=\"T_b25e81bc_92a9_11eb_897c_0242ac1c0002row12_col12\" class=\"data row12 col12\" >1.000000</td>\n",
              "                        <td id=\"T_b25e81bc_92a9_11eb_897c_0242ac1c0002row12_col13\" class=\"data row12 col13\" >0.047520</td>\n",
              "                        <td id=\"T_b25e81bc_92a9_11eb_897c_0242ac1c0002row12_col14\" class=\"data row12 col14\" >-0.000691</td>\n",
              "                        <td id=\"T_b25e81bc_92a9_11eb_897c_0242ac1c0002row12_col15\" class=\"data row12 col15\" >-0.011595</td>\n",
              "            </tr>\n",
              "            <tr>\n",
              "                        <th id=\"T_b25e81bc_92a9_11eb_897c_0242ac1c0002level0_row13\" class=\"row_heading level0 row13\" >TrafficType</th>\n",
              "                        <td id=\"T_b25e81bc_92a9_11eb_897c_0242ac1c0002row13_col0\" class=\"data row13 col0\" >-0.033561</td>\n",
              "                        <td id=\"T_b25e81bc_92a9_11eb_897c_0242ac1c0002row13_col1\" class=\"data row13 col1\" >-0.014376</td>\n",
              "                        <td id=\"T_b25e81bc_92a9_11eb_897c_0242ac1c0002row13_col2\" class=\"data row13 col2\" >-0.034491</td>\n",
              "                        <td id=\"T_b25e81bc_92a9_11eb_897c_0242ac1c0002row13_col3\" class=\"data row13 col3\" >-0.024675</td>\n",
              "                        <td id=\"T_b25e81bc_92a9_11eb_897c_0242ac1c0002row13_col4\" class=\"data row13 col4\" >-0.043064</td>\n",
              "                        <td id=\"T_b25e81bc_92a9_11eb_897c_0242ac1c0002row13_col5\" class=\"data row13 col5\" >-0.036377</td>\n",
              "                        <td id=\"T_b25e81bc_92a9_11eb_897c_0242ac1c0002row13_col6\" class=\"data row13 col6\" >0.078286</td>\n",
              "                        <td id=\"T_b25e81bc_92a9_11eb_897c_0242ac1c0002row13_col7\" class=\"data row13 col7\" >0.078616</td>\n",
              "                        <td id=\"T_b25e81bc_92a9_11eb_897c_0242ac1c0002row13_col8\" class=\"data row13 col8\" >0.012532</td>\n",
              "                        <td id=\"T_b25e81bc_92a9_11eb_897c_0242ac1c0002row13_col9\" class=\"data row13 col9\" >0.052301</td>\n",
              "                        <td id=\"T_b25e81bc_92a9_11eb_897c_0242ac1c0002row13_col10\" class=\"data row13 col10\" >0.189154</td>\n",
              "                        <td id=\"T_b25e81bc_92a9_11eb_897c_0242ac1c0002row13_col11\" class=\"data row13 col11\" >0.111938</td>\n",
              "                        <td id=\"T_b25e81bc_92a9_11eb_897c_0242ac1c0002row13_col12\" class=\"data row13 col12\" >0.047520</td>\n",
              "                        <td id=\"T_b25e81bc_92a9_11eb_897c_0242ac1c0002row13_col13\" class=\"data row13 col13\" >1.000000</td>\n",
              "                        <td id=\"T_b25e81bc_92a9_11eb_897c_0242ac1c0002row13_col14\" class=\"data row13 col14\" >-0.002221</td>\n",
              "                        <td id=\"T_b25e81bc_92a9_11eb_897c_0242ac1c0002row13_col15\" class=\"data row13 col15\" >-0.005113</td>\n",
              "            </tr>\n",
              "            <tr>\n",
              "                        <th id=\"T_b25e81bc_92a9_11eb_897c_0242ac1c0002level0_row14\" class=\"row_heading level0 row14\" >Weekend</th>\n",
              "                        <td id=\"T_b25e81bc_92a9_11eb_897c_0242ac1c0002row14_col0\" class=\"data row14 col0\" >0.026417</td>\n",
              "                        <td id=\"T_b25e81bc_92a9_11eb_897c_0242ac1c0002row14_col1\" class=\"data row14 col1\" >0.014990</td>\n",
              "                        <td id=\"T_b25e81bc_92a9_11eb_897c_0242ac1c0002row14_col2\" class=\"data row14 col2\" >0.035785</td>\n",
              "                        <td id=\"T_b25e81bc_92a9_11eb_897c_0242ac1c0002row14_col3\" class=\"data row14 col3\" >0.024078</td>\n",
              "                        <td id=\"T_b25e81bc_92a9_11eb_897c_0242ac1c0002row14_col4\" class=\"data row14 col4\" >0.016092</td>\n",
              "                        <td id=\"T_b25e81bc_92a9_11eb_897c_0242ac1c0002row14_col5\" class=\"data row14 col5\" >0.007311</td>\n",
              "                        <td id=\"T_b25e81bc_92a9_11eb_897c_0242ac1c0002row14_col6\" class=\"data row14 col6\" >-0.046514</td>\n",
              "                        <td id=\"T_b25e81bc_92a9_11eb_897c_0242ac1c0002row14_col7\" class=\"data row14 col7\" >-0.062587</td>\n",
              "                        <td id=\"T_b25e81bc_92a9_11eb_897c_0242ac1c0002row14_col8\" class=\"data row14 col8\" >0.012002</td>\n",
              "                        <td id=\"T_b25e81bc_92a9_11eb_897c_0242ac1c0002row14_col9\" class=\"data row14 col9\" >-0.016767</td>\n",
              "                        <td id=\"T_b25e81bc_92a9_11eb_897c_0242ac1c0002row14_col10\" class=\"data row14 col10\" >0.000284</td>\n",
              "                        <td id=\"T_b25e81bc_92a9_11eb_897c_0242ac1c0002row14_col11\" class=\"data row14 col11\" >-0.040261</td>\n",
              "                        <td id=\"T_b25e81bc_92a9_11eb_897c_0242ac1c0002row14_col12\" class=\"data row14 col12\" >-0.000691</td>\n",
              "                        <td id=\"T_b25e81bc_92a9_11eb_897c_0242ac1c0002row14_col13\" class=\"data row14 col13\" >-0.002221</td>\n",
              "                        <td id=\"T_b25e81bc_92a9_11eb_897c_0242ac1c0002row14_col14\" class=\"data row14 col14\" >1.000000</td>\n",
              "                        <td id=\"T_b25e81bc_92a9_11eb_897c_0242ac1c0002row14_col15\" class=\"data row14 col15\" >0.029295</td>\n",
              "            </tr>\n",
              "            <tr>\n",
              "                        <th id=\"T_b25e81bc_92a9_11eb_897c_0242ac1c0002level0_row15\" class=\"row_heading level0 row15\" >Revenue</th>\n",
              "                        <td id=\"T_b25e81bc_92a9_11eb_897c_0242ac1c0002row15_col0\" class=\"data row15 col0\" >0.138917</td>\n",
              "                        <td id=\"T_b25e81bc_92a9_11eb_897c_0242ac1c0002row15_col1\" class=\"data row15 col1\" >0.093587</td>\n",
              "                        <td id=\"T_b25e81bc_92a9_11eb_897c_0242ac1c0002row15_col2\" class=\"data row15 col2\" >0.095200</td>\n",
              "                        <td id=\"T_b25e81bc_92a9_11eb_897c_0242ac1c0002row15_col3\" class=\"data row15 col3\" >0.070345</td>\n",
              "                        <td id=\"T_b25e81bc_92a9_11eb_897c_0242ac1c0002row15_col4\" class=\"data row15 col4\" >0.158538</td>\n",
              "                        <td id=\"T_b25e81bc_92a9_11eb_897c_0242ac1c0002row15_col5\" class=\"data row15 col5\" >0.152373</td>\n",
              "                        <td id=\"T_b25e81bc_92a9_11eb_897c_0242ac1c0002row15_col6\" class=\"data row15 col6\" >-0.150673</td>\n",
              "                        <td id=\"T_b25e81bc_92a9_11eb_897c_0242ac1c0002row15_col7\" class=\"data row15 col7\" >-0.207071</td>\n",
              "                        <td id=\"T_b25e81bc_92a9_11eb_897c_0242ac1c0002row15_col8\" class=\"data row15 col8\" >0.492569</td>\n",
              "                        <td id=\"T_b25e81bc_92a9_11eb_897c_0242ac1c0002row15_col9\" class=\"data row15 col9\" >-0.082305</td>\n",
              "                        <td id=\"T_b25e81bc_92a9_11eb_897c_0242ac1c0002row15_col10\" class=\"data row15 col10\" >-0.014668</td>\n",
              "                        <td id=\"T_b25e81bc_92a9_11eb_897c_0242ac1c0002row15_col11\" class=\"data row15 col11\" >0.023984</td>\n",
              "                        <td id=\"T_b25e81bc_92a9_11eb_897c_0242ac1c0002row15_col12\" class=\"data row15 col12\" >-0.011595</td>\n",
              "                        <td id=\"T_b25e81bc_92a9_11eb_897c_0242ac1c0002row15_col13\" class=\"data row15 col13\" >-0.005113</td>\n",
              "                        <td id=\"T_b25e81bc_92a9_11eb_897c_0242ac1c0002row15_col14\" class=\"data row15 col14\" >0.029295</td>\n",
              "                        <td id=\"T_b25e81bc_92a9_11eb_897c_0242ac1c0002row15_col15\" class=\"data row15 col15\" >1.000000</td>\n",
              "            </tr>\n",
              "    </tbody></table>"
            ],
            "text/plain": [
              "<pandas.io.formats.style.Styler at 0x7fce399444d0>"
            ]
          },
          "metadata": {
            "tags": []
          },
          "execution_count": 13
        }
      ]
    },
    {
      "cell_type": "markdown",
      "metadata": {
        "id": "jRWbHZ3kz-Ld"
      },
      "source": [
        "It appears that PageValues is the most linearly correlated with our target value. Also, features such as OperatingSystems, Region and TrafficType have correlation less than 0.02, so I'll drop these columns.\n",
        "\n",
        "The relation between Administrative and Administrative_Duration, Informational and Informational_Duration and ProductRelated and ProductRelated_Duration appear to have very high correlation as can be seen in the correlation matrix. This is expected as the duration spent on a type of page would surely be influenced by the number of that type of page visited. Thus, we can remove the number of pages visited of each type."
      ]
    },
    {
      "cell_type": "markdown",
      "metadata": {
        "id": "eZo1tnT-z_WV"
      },
      "source": [
        "## **Data engineering**"
      ]
    },
    {
      "cell_type": "markdown",
      "metadata": {
        "id": "chIJNMek0AH-"
      },
      "source": [
        "I'll remove redundant columns, and update existing columns."
      ]
    },
    {
      "cell_type": "markdown",
      "metadata": {
        "id": "NgV4YDly0Qfu"
      },
      "source": [
        "### **Remove columns**"
      ]
    },
    {
      "cell_type": "markdown",
      "metadata": {
        "id": "83D1TMfx0QRh"
      },
      "source": [
        "I'll remove columns that appear to be redundant and provide no useful information towards the target class. I'll begin by dropping the count of each page visited."
      ]
    },
    {
      "cell_type": "code",
      "metadata": {
        "id": "pC8xRUQAGXXm"
      },
      "source": [
        "X = X.drop(['Administrative', 'Informational', 'ProductRelated'], axis = 1)"
      ],
      "execution_count": 14,
      "outputs": []
    },
    {
      "cell_type": "code",
      "metadata": {
        "colab": {
          "base_uri": "https://localhost:8080/"
        },
        "id": "uy3LWmbh3h_n",
        "outputId": "760da974-c4a4-4012-e2ba-e5c2e4958382"
      },
      "source": [
        "X.shape"
      ],
      "execution_count": 15,
      "outputs": [
        {
          "output_type": "execute_result",
          "data": {
            "text/plain": [
              "(12330, 14)"
            ]
          },
          "metadata": {
            "tags": []
          },
          "execution_count": 15
        }
      ]
    },
    {
      "cell_type": "markdown",
      "metadata": {
        "id": "FYwQbl663A65"
      },
      "source": [
        "I'll also removee columns that have less than 0.02 and more than -0.02 correlation with target values."
      ]
    },
    {
      "cell_type": "code",
      "metadata": {
        "id": "u9gSpNaa2_rU"
      },
      "source": [
        "X.drop(['OperatingSystems', 'Region', 'TrafficType'], axis = 1, inplace = True)"
      ],
      "execution_count": 16,
      "outputs": []
    },
    {
      "cell_type": "code",
      "metadata": {
        "colab": {
          "base_uri": "https://localhost:8080/"
        },
        "id": "e1OrGCJYGXaP",
        "outputId": "9d36342d-b085-4a34-9cb3-1e7ee3675870"
      },
      "source": [
        "X.shape"
      ],
      "execution_count": 17,
      "outputs": [
        {
          "output_type": "execute_result",
          "data": {
            "text/plain": [
              "(12330, 11)"
            ]
          },
          "metadata": {
            "tags": []
          },
          "execution_count": 17
        }
      ]
    },
    {
      "cell_type": "code",
      "metadata": {
        "colab": {
          "base_uri": "https://localhost:8080/",
          "height": 215
        },
        "id": "X68D3iXB7wjt",
        "outputId": "03e0d2c7-d459-449a-daf9-acc829dff22d"
      },
      "source": [
        "X.head()"
      ],
      "execution_count": 18,
      "outputs": [
        {
          "output_type": "execute_result",
          "data": {
            "text/html": [
              "<div>\n",
              "<style scoped>\n",
              "    .dataframe tbody tr th:only-of-type {\n",
              "        vertical-align: middle;\n",
              "    }\n",
              "\n",
              "    .dataframe tbody tr th {\n",
              "        vertical-align: top;\n",
              "    }\n",
              "\n",
              "    .dataframe thead th {\n",
              "        text-align: right;\n",
              "    }\n",
              "</style>\n",
              "<table border=\"1\" class=\"dataframe\">\n",
              "  <thead>\n",
              "    <tr style=\"text-align: right;\">\n",
              "      <th></th>\n",
              "      <th>Administrative_Duration</th>\n",
              "      <th>Informational_Duration</th>\n",
              "      <th>ProductRelated_Duration</th>\n",
              "      <th>BounceRates</th>\n",
              "      <th>ExitRates</th>\n",
              "      <th>PageValues</th>\n",
              "      <th>SpecialDay</th>\n",
              "      <th>Month</th>\n",
              "      <th>Browser</th>\n",
              "      <th>VisitorType</th>\n",
              "      <th>Weekend</th>\n",
              "    </tr>\n",
              "  </thead>\n",
              "  <tbody>\n",
              "    <tr>\n",
              "      <th>0</th>\n",
              "      <td>0.0</td>\n",
              "      <td>0.0</td>\n",
              "      <td>0.000000</td>\n",
              "      <td>0.20</td>\n",
              "      <td>0.20</td>\n",
              "      <td>0.0</td>\n",
              "      <td>0.0</td>\n",
              "      <td>Feb</td>\n",
              "      <td>1</td>\n",
              "      <td>Returning_Visitor</td>\n",
              "      <td>False</td>\n",
              "    </tr>\n",
              "    <tr>\n",
              "      <th>1</th>\n",
              "      <td>0.0</td>\n",
              "      <td>0.0</td>\n",
              "      <td>64.000000</td>\n",
              "      <td>0.00</td>\n",
              "      <td>0.10</td>\n",
              "      <td>0.0</td>\n",
              "      <td>0.0</td>\n",
              "      <td>Feb</td>\n",
              "      <td>2</td>\n",
              "      <td>Returning_Visitor</td>\n",
              "      <td>False</td>\n",
              "    </tr>\n",
              "    <tr>\n",
              "      <th>2</th>\n",
              "      <td>0.0</td>\n",
              "      <td>0.0</td>\n",
              "      <td>0.000000</td>\n",
              "      <td>0.20</td>\n",
              "      <td>0.20</td>\n",
              "      <td>0.0</td>\n",
              "      <td>0.0</td>\n",
              "      <td>Feb</td>\n",
              "      <td>1</td>\n",
              "      <td>Returning_Visitor</td>\n",
              "      <td>False</td>\n",
              "    </tr>\n",
              "    <tr>\n",
              "      <th>3</th>\n",
              "      <td>0.0</td>\n",
              "      <td>0.0</td>\n",
              "      <td>2.666667</td>\n",
              "      <td>0.05</td>\n",
              "      <td>0.14</td>\n",
              "      <td>0.0</td>\n",
              "      <td>0.0</td>\n",
              "      <td>Feb</td>\n",
              "      <td>2</td>\n",
              "      <td>Returning_Visitor</td>\n",
              "      <td>False</td>\n",
              "    </tr>\n",
              "    <tr>\n",
              "      <th>4</th>\n",
              "      <td>0.0</td>\n",
              "      <td>0.0</td>\n",
              "      <td>627.500000</td>\n",
              "      <td>0.02</td>\n",
              "      <td>0.05</td>\n",
              "      <td>0.0</td>\n",
              "      <td>0.0</td>\n",
              "      <td>Feb</td>\n",
              "      <td>3</td>\n",
              "      <td>Returning_Visitor</td>\n",
              "      <td>True</td>\n",
              "    </tr>\n",
              "  </tbody>\n",
              "</table>\n",
              "</div>"
            ],
            "text/plain": [
              "   Administrative_Duration  Informational_Duration  ...        VisitorType  Weekend\n",
              "0                      0.0                     0.0  ...  Returning_Visitor    False\n",
              "1                      0.0                     0.0  ...  Returning_Visitor    False\n",
              "2                      0.0                     0.0  ...  Returning_Visitor    False\n",
              "3                      0.0                     0.0  ...  Returning_Visitor    False\n",
              "4                      0.0                     0.0  ...  Returning_Visitor     True\n",
              "\n",
              "[5 rows x 11 columns]"
            ]
          },
          "metadata": {
            "tags": []
          },
          "execution_count": 18
        }
      ]
    },
    {
      "cell_type": "markdown",
      "metadata": {
        "id": "tdsK0UTU3K2f"
      },
      "source": [
        "### **Encoding categorical columns**"
      ]
    },
    {
      "cell_type": "markdown",
      "metadata": {
        "id": "UTknKsDq3KnM"
      },
      "source": [
        "Next, I'll use LabelEncoder and OneHotEncoder on categorical columns."
      ]
    },
    {
      "cell_type": "code",
      "metadata": {
        "id": "kSuH49BVGXcr"
      },
      "source": [
        "labelEncoder = LabelEncoder()\n",
        "X.loc[:, 'Month'] = labelEncoder.fit_transform(X.loc[:, 'Month'])\n",
        "X.loc[:, 'VisitorType'] = labelEncoder.fit_transform(X.loc[:, 'VisitorType'])\n",
        "X.loc[:, 'Weekend'] = labelEncoder.fit_transform(X.loc[:, 'Weekend'])"
      ],
      "execution_count": 19,
      "outputs": []
    },
    {
      "cell_type": "code",
      "metadata": {
        "colab": {
          "base_uri": "https://localhost:8080/",
          "height": 215
        },
        "id": "g5ftyfuavNfn",
        "outputId": "c1cdf469-04e0-4b47-e0e2-b75d426032fa"
      },
      "source": [
        "X.head()"
      ],
      "execution_count": 20,
      "outputs": [
        {
          "output_type": "execute_result",
          "data": {
            "text/html": [
              "<div>\n",
              "<style scoped>\n",
              "    .dataframe tbody tr th:only-of-type {\n",
              "        vertical-align: middle;\n",
              "    }\n",
              "\n",
              "    .dataframe tbody tr th {\n",
              "        vertical-align: top;\n",
              "    }\n",
              "\n",
              "    .dataframe thead th {\n",
              "        text-align: right;\n",
              "    }\n",
              "</style>\n",
              "<table border=\"1\" class=\"dataframe\">\n",
              "  <thead>\n",
              "    <tr style=\"text-align: right;\">\n",
              "      <th></th>\n",
              "      <th>Administrative_Duration</th>\n",
              "      <th>Informational_Duration</th>\n",
              "      <th>ProductRelated_Duration</th>\n",
              "      <th>BounceRates</th>\n",
              "      <th>ExitRates</th>\n",
              "      <th>PageValues</th>\n",
              "      <th>SpecialDay</th>\n",
              "      <th>Month</th>\n",
              "      <th>Browser</th>\n",
              "      <th>VisitorType</th>\n",
              "      <th>Weekend</th>\n",
              "    </tr>\n",
              "  </thead>\n",
              "  <tbody>\n",
              "    <tr>\n",
              "      <th>0</th>\n",
              "      <td>0.0</td>\n",
              "      <td>0.0</td>\n",
              "      <td>0.000000</td>\n",
              "      <td>0.20</td>\n",
              "      <td>0.20</td>\n",
              "      <td>0.0</td>\n",
              "      <td>0.0</td>\n",
              "      <td>2</td>\n",
              "      <td>1</td>\n",
              "      <td>2</td>\n",
              "      <td>0</td>\n",
              "    </tr>\n",
              "    <tr>\n",
              "      <th>1</th>\n",
              "      <td>0.0</td>\n",
              "      <td>0.0</td>\n",
              "      <td>64.000000</td>\n",
              "      <td>0.00</td>\n",
              "      <td>0.10</td>\n",
              "      <td>0.0</td>\n",
              "      <td>0.0</td>\n",
              "      <td>2</td>\n",
              "      <td>2</td>\n",
              "      <td>2</td>\n",
              "      <td>0</td>\n",
              "    </tr>\n",
              "    <tr>\n",
              "      <th>2</th>\n",
              "      <td>0.0</td>\n",
              "      <td>0.0</td>\n",
              "      <td>0.000000</td>\n",
              "      <td>0.20</td>\n",
              "      <td>0.20</td>\n",
              "      <td>0.0</td>\n",
              "      <td>0.0</td>\n",
              "      <td>2</td>\n",
              "      <td>1</td>\n",
              "      <td>2</td>\n",
              "      <td>0</td>\n",
              "    </tr>\n",
              "    <tr>\n",
              "      <th>3</th>\n",
              "      <td>0.0</td>\n",
              "      <td>0.0</td>\n",
              "      <td>2.666667</td>\n",
              "      <td>0.05</td>\n",
              "      <td>0.14</td>\n",
              "      <td>0.0</td>\n",
              "      <td>0.0</td>\n",
              "      <td>2</td>\n",
              "      <td>2</td>\n",
              "      <td>2</td>\n",
              "      <td>0</td>\n",
              "    </tr>\n",
              "    <tr>\n",
              "      <th>4</th>\n",
              "      <td>0.0</td>\n",
              "      <td>0.0</td>\n",
              "      <td>627.500000</td>\n",
              "      <td>0.02</td>\n",
              "      <td>0.05</td>\n",
              "      <td>0.0</td>\n",
              "      <td>0.0</td>\n",
              "      <td>2</td>\n",
              "      <td>3</td>\n",
              "      <td>2</td>\n",
              "      <td>1</td>\n",
              "    </tr>\n",
              "  </tbody>\n",
              "</table>\n",
              "</div>"
            ],
            "text/plain": [
              "   Administrative_Duration  Informational_Duration  ...  VisitorType  Weekend\n",
              "0                      0.0                     0.0  ...            2        0\n",
              "1                      0.0                     0.0  ...            2        0\n",
              "2                      0.0                     0.0  ...            2        0\n",
              "3                      0.0                     0.0  ...            2        0\n",
              "4                      0.0                     0.0  ...            2        1\n",
              "\n",
              "[5 rows x 11 columns]"
            ]
          },
          "metadata": {
            "tags": []
          },
          "execution_count": 20
        }
      ]
    },
    {
      "cell_type": "code",
      "metadata": {
        "colab": {
          "base_uri": "https://localhost:8080/"
        },
        "id": "oYk5PaFb8Gzz",
        "outputId": "3553c3fd-d2fe-4a4d-909f-9e1663633699"
      },
      "source": [
        "X.shape"
      ],
      "execution_count": 21,
      "outputs": [
        {
          "output_type": "execute_result",
          "data": {
            "text/plain": [
              "(12330, 11)"
            ]
          },
          "metadata": {
            "tags": []
          },
          "execution_count": 21
        }
      ]
    },
    {
      "cell_type": "markdown",
      "metadata": {
        "id": "ysyOyVmP3R_s"
      },
      "source": [
        "Once the labels are encoded, I'll use OneHotEncoder to create separate columns for each class in the columns, drop the first column for each class and append the new columns to train and test data, once the original columns are removed."
      ]
    },
    {
      "cell_type": "code",
      "metadata": {
        "id": "jk3qMzM_GXfW"
      },
      "source": [
        "onehotencoder = OneHotEncoder(categories = 'auto', drop = 'first')\n",
        "cat_features = onehotencoder.fit_transform(X.loc[:, ['Month', 'Browser', 'VisitorType']]).toarray()\n",
        "cat_features = pd.DataFrame(cat_features)\n",
        "\n",
        "X.drop(['Month', 'Browser', 'VisitorType'], axis = 1, inplace = True)\n",
        "X = X.join(cat_features)"
      ],
      "execution_count": 22,
      "outputs": []
    },
    {
      "cell_type": "code",
      "metadata": {
        "colab": {
          "base_uri": "https://localhost:8080/",
          "height": 215
        },
        "id": "dq__D5FpweUQ",
        "outputId": "7840d66b-4b52-42f7-f0c8-4609a60be8d9"
      },
      "source": [
        "X.head()"
      ],
      "execution_count": 18,
      "outputs": [
        {
          "output_type": "execute_result",
          "data": {
            "text/html": [
              "<div>\n",
              "<style scoped>\n",
              "    .dataframe tbody tr th:only-of-type {\n",
              "        vertical-align: middle;\n",
              "    }\n",
              "\n",
              "    .dataframe tbody tr th {\n",
              "        vertical-align: top;\n",
              "    }\n",
              "\n",
              "    .dataframe thead th {\n",
              "        text-align: right;\n",
              "    }\n",
              "</style>\n",
              "<table border=\"1\" class=\"dataframe\">\n",
              "  <thead>\n",
              "    <tr style=\"text-align: right;\">\n",
              "      <th></th>\n",
              "      <th>Administrative_Duration</th>\n",
              "      <th>Informational_Duration</th>\n",
              "      <th>ProductRelated_Duration</th>\n",
              "      <th>BounceRates</th>\n",
              "      <th>ExitRates</th>\n",
              "      <th>PageValues</th>\n",
              "      <th>SpecialDay</th>\n",
              "      <th>Weekend</th>\n",
              "      <th>0</th>\n",
              "      <th>1</th>\n",
              "      <th>2</th>\n",
              "      <th>3</th>\n",
              "      <th>4</th>\n",
              "      <th>5</th>\n",
              "      <th>6</th>\n",
              "      <th>7</th>\n",
              "      <th>8</th>\n",
              "      <th>9</th>\n",
              "      <th>10</th>\n",
              "      <th>11</th>\n",
              "      <th>12</th>\n",
              "      <th>13</th>\n",
              "      <th>14</th>\n",
              "      <th>15</th>\n",
              "      <th>16</th>\n",
              "      <th>17</th>\n",
              "      <th>18</th>\n",
              "      <th>19</th>\n",
              "      <th>20</th>\n",
              "      <th>21</th>\n",
              "      <th>22</th>\n",
              "    </tr>\n",
              "  </thead>\n",
              "  <tbody>\n",
              "    <tr>\n",
              "      <th>0</th>\n",
              "      <td>0.0</td>\n",
              "      <td>0.0</td>\n",
              "      <td>0.000000</td>\n",
              "      <td>0.20</td>\n",
              "      <td>0.20</td>\n",
              "      <td>0.0</td>\n",
              "      <td>0.0</td>\n",
              "      <td>0</td>\n",
              "      <td>0.0</td>\n",
              "      <td>1.0</td>\n",
              "      <td>0.0</td>\n",
              "      <td>0.0</td>\n",
              "      <td>0.0</td>\n",
              "      <td>0.0</td>\n",
              "      <td>0.0</td>\n",
              "      <td>0.0</td>\n",
              "      <td>0.0</td>\n",
              "      <td>0.0</td>\n",
              "      <td>0.0</td>\n",
              "      <td>0.0</td>\n",
              "      <td>0.0</td>\n",
              "      <td>0.0</td>\n",
              "      <td>0.0</td>\n",
              "      <td>0.0</td>\n",
              "      <td>0.0</td>\n",
              "      <td>0.0</td>\n",
              "      <td>0.0</td>\n",
              "      <td>0.0</td>\n",
              "      <td>0.0</td>\n",
              "      <td>0.0</td>\n",
              "      <td>1.0</td>\n",
              "    </tr>\n",
              "    <tr>\n",
              "      <th>1</th>\n",
              "      <td>0.0</td>\n",
              "      <td>0.0</td>\n",
              "      <td>64.000000</td>\n",
              "      <td>0.00</td>\n",
              "      <td>0.10</td>\n",
              "      <td>0.0</td>\n",
              "      <td>0.0</td>\n",
              "      <td>0</td>\n",
              "      <td>0.0</td>\n",
              "      <td>1.0</td>\n",
              "      <td>0.0</td>\n",
              "      <td>0.0</td>\n",
              "      <td>0.0</td>\n",
              "      <td>0.0</td>\n",
              "      <td>0.0</td>\n",
              "      <td>0.0</td>\n",
              "      <td>0.0</td>\n",
              "      <td>1.0</td>\n",
              "      <td>0.0</td>\n",
              "      <td>0.0</td>\n",
              "      <td>0.0</td>\n",
              "      <td>0.0</td>\n",
              "      <td>0.0</td>\n",
              "      <td>0.0</td>\n",
              "      <td>0.0</td>\n",
              "      <td>0.0</td>\n",
              "      <td>0.0</td>\n",
              "      <td>0.0</td>\n",
              "      <td>0.0</td>\n",
              "      <td>0.0</td>\n",
              "      <td>1.0</td>\n",
              "    </tr>\n",
              "    <tr>\n",
              "      <th>2</th>\n",
              "      <td>0.0</td>\n",
              "      <td>0.0</td>\n",
              "      <td>0.000000</td>\n",
              "      <td>0.20</td>\n",
              "      <td>0.20</td>\n",
              "      <td>0.0</td>\n",
              "      <td>0.0</td>\n",
              "      <td>0</td>\n",
              "      <td>0.0</td>\n",
              "      <td>1.0</td>\n",
              "      <td>0.0</td>\n",
              "      <td>0.0</td>\n",
              "      <td>0.0</td>\n",
              "      <td>0.0</td>\n",
              "      <td>0.0</td>\n",
              "      <td>0.0</td>\n",
              "      <td>0.0</td>\n",
              "      <td>0.0</td>\n",
              "      <td>0.0</td>\n",
              "      <td>0.0</td>\n",
              "      <td>0.0</td>\n",
              "      <td>0.0</td>\n",
              "      <td>0.0</td>\n",
              "      <td>0.0</td>\n",
              "      <td>0.0</td>\n",
              "      <td>0.0</td>\n",
              "      <td>0.0</td>\n",
              "      <td>0.0</td>\n",
              "      <td>0.0</td>\n",
              "      <td>0.0</td>\n",
              "      <td>1.0</td>\n",
              "    </tr>\n",
              "    <tr>\n",
              "      <th>3</th>\n",
              "      <td>0.0</td>\n",
              "      <td>0.0</td>\n",
              "      <td>2.666667</td>\n",
              "      <td>0.05</td>\n",
              "      <td>0.14</td>\n",
              "      <td>0.0</td>\n",
              "      <td>0.0</td>\n",
              "      <td>0</td>\n",
              "      <td>0.0</td>\n",
              "      <td>1.0</td>\n",
              "      <td>0.0</td>\n",
              "      <td>0.0</td>\n",
              "      <td>0.0</td>\n",
              "      <td>0.0</td>\n",
              "      <td>0.0</td>\n",
              "      <td>0.0</td>\n",
              "      <td>0.0</td>\n",
              "      <td>1.0</td>\n",
              "      <td>0.0</td>\n",
              "      <td>0.0</td>\n",
              "      <td>0.0</td>\n",
              "      <td>0.0</td>\n",
              "      <td>0.0</td>\n",
              "      <td>0.0</td>\n",
              "      <td>0.0</td>\n",
              "      <td>0.0</td>\n",
              "      <td>0.0</td>\n",
              "      <td>0.0</td>\n",
              "      <td>0.0</td>\n",
              "      <td>0.0</td>\n",
              "      <td>1.0</td>\n",
              "    </tr>\n",
              "    <tr>\n",
              "      <th>4</th>\n",
              "      <td>0.0</td>\n",
              "      <td>0.0</td>\n",
              "      <td>627.500000</td>\n",
              "      <td>0.02</td>\n",
              "      <td>0.05</td>\n",
              "      <td>0.0</td>\n",
              "      <td>0.0</td>\n",
              "      <td>1</td>\n",
              "      <td>0.0</td>\n",
              "      <td>1.0</td>\n",
              "      <td>0.0</td>\n",
              "      <td>0.0</td>\n",
              "      <td>0.0</td>\n",
              "      <td>0.0</td>\n",
              "      <td>0.0</td>\n",
              "      <td>0.0</td>\n",
              "      <td>0.0</td>\n",
              "      <td>0.0</td>\n",
              "      <td>1.0</td>\n",
              "      <td>0.0</td>\n",
              "      <td>0.0</td>\n",
              "      <td>0.0</td>\n",
              "      <td>0.0</td>\n",
              "      <td>0.0</td>\n",
              "      <td>0.0</td>\n",
              "      <td>0.0</td>\n",
              "      <td>0.0</td>\n",
              "      <td>0.0</td>\n",
              "      <td>0.0</td>\n",
              "      <td>0.0</td>\n",
              "      <td>1.0</td>\n",
              "    </tr>\n",
              "  </tbody>\n",
              "</table>\n",
              "</div>"
            ],
            "text/plain": [
              "   Administrative_Duration  Informational_Duration  ...   21   22\n",
              "0                      0.0                     0.0  ...  0.0  1.0\n",
              "1                      0.0                     0.0  ...  0.0  1.0\n",
              "2                      0.0                     0.0  ...  0.0  1.0\n",
              "3                      0.0                     0.0  ...  0.0  1.0\n",
              "4                      0.0                     0.0  ...  0.0  1.0\n",
              "\n",
              "[5 rows x 31 columns]"
            ]
          },
          "metadata": {
            "tags": []
          },
          "execution_count": 18
        }
      ]
    },
    {
      "cell_type": "code",
      "metadata": {
        "colab": {
          "base_uri": "https://localhost:8080/"
        },
        "id": "xl7U_l9g0KX-",
        "outputId": "6098643c-3686-4271-deb3-3e16dfdb38ff"
      },
      "source": [
        "X.shape"
      ],
      "execution_count": 23,
      "outputs": [
        {
          "output_type": "execute_result",
          "data": {
            "text/plain": [
              "(12330, 31)"
            ]
          },
          "metadata": {
            "tags": []
          },
          "execution_count": 23
        }
      ]
    },
    {
      "cell_type": "markdown",
      "metadata": {
        "id": "UysF-j0G3T7a"
      },
      "source": [
        "### **Scaling the data**"
      ]
    },
    {
      "cell_type": "markdown",
      "metadata": {
        "id": "uB2EeQzD3W80"
      },
      "source": [
        "After removing some columns, I'll now scale the columns to have mean 0."
      ]
    },
    {
      "cell_type": "code",
      "metadata": {
        "id": "ZUCOiMHu34O2"
      },
      "source": [
        "standardScaler = StandardScaler()\n",
        "X = standardScaler.fit_transform(X)"
      ],
      "execution_count": 24,
      "outputs": []
    },
    {
      "cell_type": "markdown",
      "metadata": {
        "id": "v2ONCHG035lk"
      },
      "source": [
        "## **Model generation**"
      ]
    },
    {
      "cell_type": "markdown",
      "metadata": {
        "id": "2K2rpZqQ34hQ"
      },
      "source": [
        "I'll create the Artificial Neural Network now. I'll create network with many layers. I've developed this architecture based on hit and trial and the validation accuracy I got."
      ]
    },
    {
      "cell_type": "code",
      "metadata": {
        "id": "QTTtLC6VGXiK",
        "colab": {
          "base_uri": "https://localhost:8080/"
        },
        "outputId": "2026e280-72c2-4e15-f2a1-df2c00edda31"
      },
      "source": [
        "classifier = Sequential()\n",
        "classifier.add(Dense(units = 128, activation = 'relu', input_dim = 31))\n",
        "classifier.add(Dropout(rate = 0.6))\n",
        "classifier.add(Dense(units = 128, activation = 'relu'))\n",
        "classifier.add(Dropout(rate = 0.6))\n",
        "classifier.add(Dense(units = 256, activation = 'relu'))\n",
        "classifier.add(Dropout(rate = 0.6))\n",
        "classifier.add(Dense(units = 128, activation = 'relu'))\n",
        "classifier.add(Dropout(rate = 0.4))\n",
        "classifier.add(Dense(units = 1, activation = 'sigmoid'))\n",
        "classifier.compile(optimizer = 'adam', loss = 'binary_crossentropy', metrics = ['accuracy'])\n",
        "classifier.summary()"
      ],
      "execution_count": 25,
      "outputs": [
        {
          "output_type": "stream",
          "text": [
            "Model: \"sequential\"\n",
            "_________________________________________________________________\n",
            "Layer (type)                 Output Shape              Param #   \n",
            "=================================================================\n",
            "dense (Dense)                (None, 128)               4096      \n",
            "_________________________________________________________________\n",
            "dropout (Dropout)            (None, 128)               0         \n",
            "_________________________________________________________________\n",
            "dense_1 (Dense)              (None, 128)               16512     \n",
            "_________________________________________________________________\n",
            "dropout_1 (Dropout)          (None, 128)               0         \n",
            "_________________________________________________________________\n",
            "dense_2 (Dense)              (None, 256)               33024     \n",
            "_________________________________________________________________\n",
            "dropout_2 (Dropout)          (None, 256)               0         \n",
            "_________________________________________________________________\n",
            "dense_3 (Dense)              (None, 128)               32896     \n",
            "_________________________________________________________________\n",
            "dropout_3 (Dropout)          (None, 128)               0         \n",
            "_________________________________________________________________\n",
            "dense_4 (Dense)              (None, 1)                 129       \n",
            "=================================================================\n",
            "Total params: 86,657\n",
            "Trainable params: 86,657\n",
            "Non-trainable params: 0\n",
            "_________________________________________________________________\n"
          ],
          "name": "stdout"
        }
      ]
    },
    {
      "cell_type": "markdown",
      "metadata": {
        "id": "vkA1ZUtJ3yIC"
      },
      "source": [
        "## **Training and evaluating the model**"
      ]
    },
    {
      "cell_type": "markdown",
      "metadata": {
        "id": "CMisLQUN3xfa"
      },
      "source": [
        "I'll now train the model with the train data and the validation data as 10% of the train data."
      ]
    },
    {
      "cell_type": "code",
      "metadata": {
        "id": "dOA6M-TssXyt"
      },
      "source": [
        "X_train, X_test, Y_train, Y_test = train_test_split(X,Y,test_size = 0.2, random_state=42)\n",
        "\n",
        "#Pandas reset_index() is a method to reset index of a Data Frame. \n",
        "#reset_index() method sets a list of integer ranging from 0 to length of data as index."
      ],
      "execution_count": 26,
      "outputs": []
    },
    {
      "cell_type": "code",
      "metadata": {
        "id": "f_FmypFxGXkx",
        "colab": {
          "base_uri": "https://localhost:8080/"
        },
        "outputId": "2fc0c379-0c47-4790-9bf4-b7b39b9fdcaf"
      },
      "source": [
        "history = classifier.fit(X_train, Y_train, epochs = 50, shuffle = False, validation_split = 0.1)"
      ],
      "execution_count": 27,
      "outputs": [
        {
          "output_type": "stream",
          "text": [
            "Epoch 1/50\n",
            "278/278 [==============================] - 2s 6ms/step - loss: 0.4775 - accuracy: 0.8259 - val_loss: 0.3250 - val_accuracy: 0.8622\n",
            "Epoch 2/50\n",
            "278/278 [==============================] - 1s 3ms/step - loss: 0.3471 - accuracy: 0.8671 - val_loss: 0.3015 - val_accuracy: 0.8845\n",
            "Epoch 3/50\n",
            "278/278 [==============================] - 1s 3ms/step - loss: 0.2992 - accuracy: 0.8797 - val_loss: 0.2750 - val_accuracy: 0.8855\n",
            "Epoch 4/50\n",
            "278/278 [==============================] - 1s 3ms/step - loss: 0.2914 - accuracy: 0.8898 - val_loss: 0.2699 - val_accuracy: 0.8865\n",
            "Epoch 5/50\n",
            "278/278 [==============================] - 1s 3ms/step - loss: 0.2812 - accuracy: 0.8919 - val_loss: 0.2725 - val_accuracy: 0.8875\n",
            "Epoch 6/50\n",
            "278/278 [==============================] - 1s 3ms/step - loss: 0.2714 - accuracy: 0.8942 - val_loss: 0.2641 - val_accuracy: 0.8926\n",
            "Epoch 7/50\n",
            "278/278 [==============================] - 1s 3ms/step - loss: 0.2730 - accuracy: 0.8976 - val_loss: 0.2640 - val_accuracy: 0.8896\n",
            "Epoch 8/50\n",
            "278/278 [==============================] - 1s 3ms/step - loss: 0.2688 - accuracy: 0.8980 - val_loss: 0.2585 - val_accuracy: 0.8936\n",
            "Epoch 9/50\n",
            "278/278 [==============================] - 1s 3ms/step - loss: 0.2633 - accuracy: 0.8995 - val_loss: 0.2557 - val_accuracy: 0.8896\n",
            "Epoch 10/50\n",
            "278/278 [==============================] - 1s 3ms/step - loss: 0.2669 - accuracy: 0.8928 - val_loss: 0.2543 - val_accuracy: 0.8906\n",
            "Epoch 11/50\n",
            "278/278 [==============================] - 1s 3ms/step - loss: 0.2641 - accuracy: 0.8999 - val_loss: 0.2501 - val_accuracy: 0.8936\n",
            "Epoch 12/50\n",
            "278/278 [==============================] - 1s 3ms/step - loss: 0.2553 - accuracy: 0.9002 - val_loss: 0.2495 - val_accuracy: 0.8936\n",
            "Epoch 13/50\n",
            "278/278 [==============================] - 1s 3ms/step - loss: 0.2484 - accuracy: 0.9052 - val_loss: 0.2502 - val_accuracy: 0.8956\n",
            "Epoch 14/50\n",
            "278/278 [==============================] - 1s 3ms/step - loss: 0.2512 - accuracy: 0.9008 - val_loss: 0.2510 - val_accuracy: 0.8987\n",
            "Epoch 15/50\n",
            "278/278 [==============================] - 1s 3ms/step - loss: 0.2478 - accuracy: 0.9021 - val_loss: 0.2439 - val_accuracy: 0.8956\n",
            "Epoch 16/50\n",
            "278/278 [==============================] - 1s 3ms/step - loss: 0.2446 - accuracy: 0.9055 - val_loss: 0.2446 - val_accuracy: 0.8936\n",
            "Epoch 17/50\n",
            "278/278 [==============================] - 1s 3ms/step - loss: 0.2482 - accuracy: 0.9066 - val_loss: 0.2452 - val_accuracy: 0.8956\n",
            "Epoch 18/50\n",
            "278/278 [==============================] - 1s 3ms/step - loss: 0.2482 - accuracy: 0.9012 - val_loss: 0.2450 - val_accuracy: 0.8977\n",
            "Epoch 19/50\n",
            "278/278 [==============================] - 1s 3ms/step - loss: 0.2487 - accuracy: 0.9046 - val_loss: 0.2430 - val_accuracy: 0.8946\n",
            "Epoch 20/50\n",
            "278/278 [==============================] - 1s 3ms/step - loss: 0.2434 - accuracy: 0.9037 - val_loss: 0.2421 - val_accuracy: 0.8936\n",
            "Epoch 21/50\n",
            "278/278 [==============================] - 1s 3ms/step - loss: 0.2492 - accuracy: 0.9009 - val_loss: 0.2459 - val_accuracy: 0.8916\n",
            "Epoch 22/50\n",
            "278/278 [==============================] - 1s 3ms/step - loss: 0.2412 - accuracy: 0.9037 - val_loss: 0.2427 - val_accuracy: 0.8946\n",
            "Epoch 23/50\n",
            "278/278 [==============================] - 1s 3ms/step - loss: 0.2443 - accuracy: 0.9013 - val_loss: 0.2400 - val_accuracy: 0.8956\n",
            "Epoch 24/50\n",
            "278/278 [==============================] - 1s 3ms/step - loss: 0.2505 - accuracy: 0.9041 - val_loss: 0.2453 - val_accuracy: 0.8926\n",
            "Epoch 25/50\n",
            "278/278 [==============================] - 1s 3ms/step - loss: 0.2423 - accuracy: 0.9072 - val_loss: 0.2421 - val_accuracy: 0.8906\n",
            "Epoch 26/50\n",
            "278/278 [==============================] - 1s 3ms/step - loss: 0.2411 - accuracy: 0.9056 - val_loss: 0.2438 - val_accuracy: 0.8916\n",
            "Epoch 27/50\n",
            "278/278 [==============================] - 1s 3ms/step - loss: 0.2495 - accuracy: 0.9049 - val_loss: 0.2432 - val_accuracy: 0.8896\n",
            "Epoch 28/50\n",
            "278/278 [==============================] - 1s 3ms/step - loss: 0.2342 - accuracy: 0.9057 - val_loss: 0.2448 - val_accuracy: 0.8936\n",
            "Epoch 29/50\n",
            "278/278 [==============================] - 1s 3ms/step - loss: 0.2404 - accuracy: 0.9046 - val_loss: 0.2406 - val_accuracy: 0.8926\n",
            "Epoch 30/50\n",
            "278/278 [==============================] - 1s 3ms/step - loss: 0.2316 - accuracy: 0.9088 - val_loss: 0.2404 - val_accuracy: 0.8906\n",
            "Epoch 31/50\n",
            "278/278 [==============================] - 1s 3ms/step - loss: 0.2332 - accuracy: 0.9059 - val_loss: 0.2426 - val_accuracy: 0.8886\n",
            "Epoch 32/50\n",
            "278/278 [==============================] - 1s 3ms/step - loss: 0.2368 - accuracy: 0.9022 - val_loss: 0.2382 - val_accuracy: 0.8916\n",
            "Epoch 33/50\n",
            "278/278 [==============================] - 1s 3ms/step - loss: 0.2373 - accuracy: 0.9087 - val_loss: 0.2383 - val_accuracy: 0.8956\n",
            "Epoch 34/50\n",
            "278/278 [==============================] - 1s 3ms/step - loss: 0.2335 - accuracy: 0.9049 - val_loss: 0.2376 - val_accuracy: 0.8926\n",
            "Epoch 35/50\n",
            "278/278 [==============================] - 1s 3ms/step - loss: 0.2412 - accuracy: 0.9025 - val_loss: 0.2375 - val_accuracy: 0.8936\n",
            "Epoch 36/50\n",
            "278/278 [==============================] - 1s 3ms/step - loss: 0.2346 - accuracy: 0.9057 - val_loss: 0.2360 - val_accuracy: 0.8926\n",
            "Epoch 37/50\n",
            "278/278 [==============================] - 1s 3ms/step - loss: 0.2391 - accuracy: 0.9056 - val_loss: 0.2364 - val_accuracy: 0.8906\n",
            "Epoch 38/50\n",
            "278/278 [==============================] - 1s 3ms/step - loss: 0.2304 - accuracy: 0.9062 - val_loss: 0.2383 - val_accuracy: 0.8896\n",
            "Epoch 39/50\n",
            "278/278 [==============================] - 1s 3ms/step - loss: 0.2352 - accuracy: 0.9052 - val_loss: 0.2369 - val_accuracy: 0.8886\n",
            "Epoch 40/50\n",
            "278/278 [==============================] - 1s 3ms/step - loss: 0.2318 - accuracy: 0.9043 - val_loss: 0.2379 - val_accuracy: 0.8926\n",
            "Epoch 41/50\n",
            "278/278 [==============================] - 1s 3ms/step - loss: 0.2343 - accuracy: 0.9086 - val_loss: 0.2387 - val_accuracy: 0.8886\n",
            "Epoch 42/50\n",
            "278/278 [==============================] - 1s 3ms/step - loss: 0.2350 - accuracy: 0.9052 - val_loss: 0.2389 - val_accuracy: 0.8886\n",
            "Epoch 43/50\n",
            "278/278 [==============================] - 1s 3ms/step - loss: 0.2347 - accuracy: 0.9065 - val_loss: 0.2338 - val_accuracy: 0.8906\n",
            "Epoch 44/50\n",
            "278/278 [==============================] - 1s 3ms/step - loss: 0.2311 - accuracy: 0.9103 - val_loss: 0.2327 - val_accuracy: 0.8896\n",
            "Epoch 45/50\n",
            "278/278 [==============================] - 1s 3ms/step - loss: 0.2293 - accuracy: 0.9052 - val_loss: 0.2338 - val_accuracy: 0.8926\n",
            "Epoch 46/50\n",
            "278/278 [==============================] - 1s 3ms/step - loss: 0.2334 - accuracy: 0.9044 - val_loss: 0.2381 - val_accuracy: 0.8916\n",
            "Epoch 47/50\n",
            "278/278 [==============================] - 1s 3ms/step - loss: 0.2280 - accuracy: 0.9114 - val_loss: 0.2377 - val_accuracy: 0.8936\n",
            "Epoch 48/50\n",
            "278/278 [==============================] - 1s 3ms/step - loss: 0.2283 - accuracy: 0.9084 - val_loss: 0.2382 - val_accuracy: 0.8967\n",
            "Epoch 49/50\n",
            "278/278 [==============================] - 1s 3ms/step - loss: 0.2257 - accuracy: 0.9076 - val_loss: 0.2378 - val_accuracy: 0.8946\n",
            "Epoch 50/50\n",
            "278/278 [==============================] - 1s 3ms/step - loss: 0.2299 - accuracy: 0.9127 - val_loss: 0.2367 - val_accuracy: 0.8926\n"
          ],
          "name": "stdout"
        }
      ]
    },
    {
      "cell_type": "markdown",
      "metadata": {
        "id": "PTAj2fAb3u4A"
      },
      "source": [
        "I'll output the prediction on the test data and evaluate the Confusion Matrix and Accuracy."
      ]
    },
    {
      "cell_type": "code",
      "metadata": {
        "id": "RNUSyQSfGY57",
        "colab": {
          "base_uri": "https://localhost:8080/"
        },
        "outputId": "c2ec33ed-bab1-4f8d-eba2-4eaa8500d268"
      },
      "source": [
        "Y_pred = classifier.predict(X_test)\n",
        "Y_pred = Y_pred > 0.5\n",
        "\n",
        "print(\"Confusion matrix:\")\n",
        "print(confusion_matrix(Y_test, Y_pred))\n",
        "print(\"Accuracy: {:.2f}%\".format(accuracy_score(Y_test, Y_pred)*100))"
      ],
      "execution_count": 33,
      "outputs": [
        {
          "output_type": "stream",
          "text": [
            "Confusion matrix:\n",
            "[[1968   87]\n",
            " [ 196  215]]\n",
            "Accuracy: 88.52%\n"
          ],
          "name": "stdout"
        }
      ]
    },
    {
      "cell_type": "markdown",
      "metadata": {
        "id": "ZxNw4-oS3o03"
      },
      "source": [
        "## **Result analysis**"
      ]
    },
    {
      "cell_type": "markdown",
      "metadata": {
        "id": "dltaRhmo3cD5"
      },
      "source": [
        "The confusion matrix reveals that we are able to identify both type of visitors, visitors that are going to generate revenue and visitors that are not going to. We can use this information as follows:\n",
        "\n",
        "\n",
        "1. Once we are able to identify that someone is going to generate revenue, we do not need to provide any coupons, rather we can give the visitors special points which they can use the next time they visit.\n",
        "2. The visitors that are unlikely to make a purchase can be provided with discount coupons so that they are more likely to make a purchase."
      ]
    }
  ]
}